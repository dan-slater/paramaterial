{
 "cells": [
  {
   "cell_type": "markdown",
   "metadata": {
    "collapsed": true
   },
   "source": [
    "# Case study of uniaxial compression tests\n",
    "\n",
    "This is an example of how to use Paramaterial to process a dataset of uniaxial compression test measurements.\n",
    "The data should be formatted as a set of csv files containing measurements for each test, and a single excel spreadsheet containing the metadata for the dataset.\n",
    "There should be a single row in the excel spreadsheet for each csv file.\n",
    "\n",
    "The analysis takes 4 stages:\n",
    "- Data preparation\n",
    "- Data processing\n",
    "- Model fitting\n",
    "- Test report generation"
   ],
   "outputs": []
  },
  {
   "cell_type": "code",
   "execution_count": null,
   "outputs": [],
   "source": [
    "import numpy as np\n",
    "%matplotlib inline"
   ],
   "metadata": {
    "collapsed": false,
    "pycharm": {
     "is_executing": true
    }
   }
  },
  {
   "cell_type": "code",
   "execution_count": null,
   "outputs": [],
   "source": [
    "from matplotlib import pyplot as plt\n",
    "import seaborn as sns\n",
    "import pandas as pd\n"
   ],
   "metadata": {
    "collapsed": false,
    "pycharm": {
     "is_executing": true
    }
   }
  },
  {
   "cell_type": "code",
   "execution_count": null,
   "outputs": [],
   "source": [
    "import paramaterial\n",
    "import importlib\n",
    "importlib.reload(paramaterial)\n",
    "pam = paramaterial\n",
    "DataSet, DataItem = pam.plug.DataSet, pam.plug.DataItem"
   ],
   "metadata": {
    "collapsed": false,
    "pycharm": {
     "is_executing": true
    }
   }
  },
  {
   "cell_type": "markdown",
   "source": [
    "## Data preparation\n"
   ],
   "metadata": {
    "collapsed": false
   }
  },
  {
   "cell_type": "markdown",
   "source": [
    "### Backup data and raw data\n",
    "1. Create two directories: \"data\", \"info\".\n",
    "2. Save all csv files into a directory called \"data/00 backup data\".\n",
    "3. Generate a corresponding info table \"info/00 backup info.xlsx\" using make_info_table function. The function writes the table to a spreadsheet and returns it as a dataframe.\n",
    "5. Fill in the info and save backup info and data.\n",
    "6. Copy to raw info and data."
   ],
   "metadata": {
    "collapsed": false
   }
  },
  {
   "cell_type": "code",
   "execution_count": null,
   "outputs": [],
   "source": [
    "backup_info = pam.preparing.make_info_table('data/00 backup data', columns=['temperature', 'rate', 'material'])\n",
    "backup_info.to_excel('info/00 backup info unfilled.xlsx')\n",
    "backup_info.head()"
   ],
   "metadata": {
    "collapsed": false,
    "pycharm": {
     "is_executing": true
    }
   }
  },
  {
   "cell_type": "markdown",
   "source": [
    "Add the metadata into the excel spreadsheet.\n",
    "Apply a naming convention in the \"test id\" column."
   ],
   "metadata": {
    "collapsed": false
   }
  },
  {
   "cell_type": "code",
   "execution_count": null,
   "outputs": [],
   "source": [
    "backup_info = pd.read_excel('info/00 backup info.xlsx')\n",
    "backup_info.head()"
   ],
   "metadata": {
    "collapsed": false,
    "pycharm": {
     "is_executing": true
    }
   }
  },
  {
   "cell_type": "markdown",
   "source": [
    "Copy backup data and info into raw data and info, then leave backup alone in all further steps."
   ],
   "metadata": {
    "collapsed": false
   }
  },
  {
   "cell_type": "code",
   "execution_count": null,
   "outputs": [],
   "source": [
    "pam.preparing.copy_data_and_info(old_data_dir='data/00 backup data', new_data_dir='data/01 prepared data',\n",
    "                                 old_info_path='info/00 backup info.xlsx', new_info_path='info/01 prepared info.xlsx')"
   ],
   "metadata": {
    "collapsed": false,
    "pycharm": {
     "is_executing": true
    }
   }
  },
  {
   "cell_type": "markdown",
   "source": [
    "### Prepared data\n",
    "\n",
    "Rename files according to test id."
   ],
   "metadata": {
    "collapsed": false
   }
  },
  {
   "cell_type": "code",
   "execution_count": null,
   "outputs": [],
   "source": [
    "# pam.preparing.rename_by_test_id('data/01 prepared data', 'info/01 prepared info.xlsx')"
   ],
   "metadata": {
    "collapsed": false,
    "pycharm": {
     "is_executing": true
    }
   }
  },
  {
   "cell_type": "markdown",
   "source": [
    "Check that column headers of data files are all the same. If not the same, fix."
   ],
   "metadata": {
    "collapsed": false
   }
  },
  {
   "cell_type": "code",
   "execution_count": null,
   "outputs": [],
   "source": [
    "pam.preparing.check_column_headers('data/01 prepared data')"
   ],
   "metadata": {
    "collapsed": false,
    "pycharm": {
     "is_executing": true
    }
   }
  },
  {
   "cell_type": "code",
   "execution_count": null,
   "outputs": [],
   "source": [
    "raw_dataset = DataSet('data/01 prepared data', 'info/01 prepared info.xlsx')"
   ],
   "metadata": {
    "collapsed": false,
    "pycharm": {
     "is_executing": true
    }
   }
  },
  {
   "cell_type": "markdown",
   "source": [
    "### Dataitem EDA\n",
    "Look at one dataitem. Notice the use of the square brackets to get a subset, then to get a slice, then to get a single item."
   ],
   "metadata": {
    "collapsed": false
   }
  },
  {
   "cell_type": "code",
   "execution_count": null,
   "outputs": [],
   "source": [
    "dataitem = raw_dataset[{'rate': [1], 'material': ['H560']}][0:2][0]\n",
    "# dataitem = raw_dataset[{'rate': [1], 'material': ['H560']}][0:2][1]\n",
    "# dataitem = raw_dataset[{'rate': [1], 'material': ['H560']}][0:2][2]\n",
    "\n",
    "dataitem"
   ],
   "metadata": {
    "collapsed": false,
    "pycharm": {
     "is_executing": true
    }
   }
  },
  {
   "cell_type": "code",
   "execution_count": null,
   "outputs": [],
   "source": [
    "dataitem.data = dataitem.data.drop(columns=['PowAngle(deg)', 'Power(W)', 'Pram', 'Stroke(mm)', 'wedge(mm)', 'PTemp'])\n",
    "sns.pairplot(pd.concat([dataitem.data.iloc[:-199:200], dataitem.data.iloc[-10:]]), hue='TC1(C)', palette='plasma')"
   ],
   "metadata": {
    "collapsed": false,
    "pycharm": {
     "is_executing": true
    }
   }
  },
  {
   "cell_type": "markdown",
   "source": [
    "### Dataset EDA"
   ],
   "metadata": {
    "collapsed": false
   }
  },
  {
   "cell_type": "code",
   "execution_count": null,
   "outputs": [],
   "source": [
    "raw_info = raw_dataset.info_table\n",
    "raw_info.head()"
   ],
   "metadata": {
    "collapsed": false,
    "pycharm": {
     "is_executing": true
    }
   }
  },
  {
   "cell_type": "code",
   "execution_count": null,
   "outputs": [],
   "source": [
    "raw_info.nunique()"
   ],
   "metadata": {
    "collapsed": false,
    "pycharm": {
     "is_executing": true
    }
   }
  },
  {
   "cell_type": "code",
   "execution_count": null,
   "outputs": [],
   "source": [
    "sns.pairplot(raw_info, vars=['temperature', 'rate'], hue='material', diag_kind='hist', markers=['D', 's', 'o'],\n",
    "             palette='magma')"
   ],
   "metadata": {
    "collapsed": false,
    "pycharm": {
     "is_executing": true
    }
   }
  },
  {
   "cell_type": "code",
   "execution_count": null,
   "outputs": [],
   "source": [
    "data_matrix = raw_info[['material', 'temperature', 'rate']].value_counts().sort_index()\n",
    "data_matrix"
   ],
   "metadata": {
    "collapsed": false,
    "pycharm": {
     "is_executing": true
    }
   }
  },
  {
   "cell_type": "markdown",
   "source": [
    "Make the experimental matrix."
   ],
   "metadata": {
    "collapsed": false
   }
  },
  {
   "cell_type": "code",
   "execution_count": null,
   "outputs": [],
   "source": [
    "data_matrix = data_matrix.to_frame().reset_index()\n",
    "data_matrix.columns = ['material', 'temperature', 'rate', 'count']\n",
    "data_matrix.pivot_table(index=['material', 'rate'], columns='temperature', values='count').fillna(0).astype(int)"
   ],
   "metadata": {
    "collapsed": false,
    "pycharm": {
     "is_executing": true
    }
   }
  },
  {
   "cell_type": "markdown",
   "source": [
    "Plot the dataset."
   ],
   "metadata": {
    "collapsed": false
   }
  },
  {
   "cell_type": "code",
   "execution_count": null,
   "outputs": [],
   "source": [
    "# configure dataset plot\n",
    "ds_plot = lambda dataset, **kwargs: pam.plotting.dataset_plot(dataset, x='Strain', y='Stress(MPa)', ylabel='Stress (MPa)',\n",
    "                                                    cbar_by='temperature', cbar_label='Temperature ($^{\\circ}$C)',\n",
    "                                                    xlim=(-0.2, 1.5), grid=True, **kwargs)\n",
    "ds_plot(raw_dataset)"
   ],
   "metadata": {
    "collapsed": false,
    "pycharm": {
     "is_executing": true
    }
   }
  },
  {
   "cell_type": "code",
   "execution_count": null,
   "outputs": [],
   "source": [
    "# configure dataset subplot\n",
    "# ds_subplot = lambda dataset: pam.plotting.dataset_subplots(\n",
    "#     dataset, x='Strain', y='Stress(MPa)', ylabel='Stress (MPa)',\n",
    "#     nrows=3, ncols=4,\n",
    "#     rows_by='material', cols_by='rate',\n",
    "#     row_keys=[['AC'], ['H560'], ['H580']],\n",
    "#     col_keys=[[1], [10], [50], [100]],\n",
    "#     row_titles=['AC', 'H560', 'H580'],\n",
    "#     col_titles=['1 s$^{-1}$', '10 s$^{-1}$', '50 s$^{-1}$', '100 s$^{-1}$'],\n",
    "#     cbar_by='temperature', cbar_label='Temperature ($^{\\circ}$C)',\n",
    "#     xlim=(-0.2, 1.5), grid=True, wspace=0.05, hspace=0.05\n",
    "# )\n",
    "\n",
    "# ds_subplot(raw_dataset)"
   ],
   "metadata": {
    "collapsed": false,
    "pycharm": {
     "is_executing": true
    }
   }
  },
  {
   "cell_type": "code",
   "execution_count": null,
   "outputs": [],
   "source": [
    "# dataset subplots splitting low and high rates\n",
    "ds_subplot = lambda dataset: pam.plotting.dataset_subplots(\n",
    "    dataset, x='Strain', y='Stress(MPa)', ylabel='Stress (MPa)',\n",
    "    nrows=1, ncols=2,\n",
    "    rows_by='material', cols_by='rate',\n",
    "    row_keys=[['AC', 'H560', 'H580']],\n",
    "    col_keys=[[1, 10], [50 ,100]],\n",
    "    col_titles=['1 and 10 s$^{-1}$', '50 and 100 s$^{-1}$'],\n",
    "    cbar_by='temperature', cbar_label='Temperature ($^{\\circ}$C)',\n",
    "    xlim=(-0.2, 1.5), grid=True, wspace=0.05, hspace=0.05, figsize=(9, 5)\n",
    ")\n",
    "\n",
    "ds_subplot(raw_dataset)"
   ],
   "metadata": {
    "collapsed": false,
    "pycharm": {
     "is_executing": true
    }
   }
  },
  {
   "cell_type": "markdown",
   "source": [
    "## Processing\n",
    "We now want to:\n",
    "- Trim the data\n",
    "- Apply friction corrections\n",
    "- Make representative curves\n",
    "- Screen the data"
   ],
   "metadata": {
    "collapsed": false
   }
  },
  {
   "cell_type": "markdown",
   "source": [
    "### Trimming the data\n",
    "- Remove unnecessary columns\n",
    "- Trim leading and trailing data using time-step change\n",
    "- Trim remaining trailing data after max force"
   ],
   "metadata": {
    "collapsed": false
   }
  },
  {
   "cell_type": "code",
   "execution_count": null,
   "outputs": [],
   "source": [
    "def drop_columns(di: DataItem) -> DataItem:\n",
    "    di.data = di.data.drop(columns=['PowAngle(deg)', 'Power(W)', 'Pram', 'PTemp', 'Stroke(mm)', 'wedge(mm)'])\n",
    "    return di\n",
    "\n",
    "raw_dataset = raw_dataset.apply_function(drop_columns)\n",
    "raw_dataset"
   ],
   "metadata": {
    "collapsed": false,
    "pycharm": {
     "is_executing": true
    }
   }
  },
  {
   "cell_type": "markdown",
   "source": [
    "#### Trim using sampling rate change\n",
    "After calculating the time-steps, we remove data that was sampled with a larger time-step."
   ],
   "metadata": {
    "collapsed": false
   }
  },
  {
   "cell_type": "code",
   "execution_count": null,
   "outputs": [],
   "source": [
    "# calculate time-step\n",
    "dataitem = raw_dataset[0]\n",
    "time_step = np.diff(dataitem.data['Time(sec)'])\n",
    "dataitem.data['time-step(s)'] = np.hstack([time_step[0], time_step])\n",
    "ax = dataitem.data.plot(y='time-step(s)')\n",
    "# trim by time-step\n",
    "dataitem.data = dataitem.data[dataitem.data['time-step(s)'] < 0.02]\n",
    "dataitem.data.plot(ax=ax, y='time-step(s)', label='trimmed time-step')"
   ],
   "metadata": {
    "collapsed": false,
    "pycharm": {
     "is_executing": true
    }
   }
  },
  {
   "cell_type": "markdown",
   "source": [
    "Trim dataset using time-step change."
   ],
   "metadata": {
    "collapsed": false
   }
  },
  {
   "cell_type": "code",
   "execution_count": null,
   "outputs": [],
   "source": [
    "def trim_using_time_step_change(di: DataItem) -> DataItem:\n",
    "    t_diff = np.diff(di.data['Time(sec)'])\n",
    "    di.data['time diff'] = np.hstack([t_diff[0], t_diff])\n",
    "    di.data = di.data[di.data['time diff'] < 0.02]\n",
    "    return di\n",
    "\n",
    "trimmed_dataset = raw_dataset.apply_function(trim_using_time_step_change)\n",
    "ds_subplot(trimmed_dataset)"
   ],
   "metadata": {
    "collapsed": false,
    "pycharm": {
     "is_executing": true
    }
   }
  },
  {
   "cell_type": "markdown",
   "source": [
    "#### Trim using max force\n",
    "The end of a compression test can be identified my the maximum force."
   ],
   "metadata": {
    "collapsed": false
   }
  },
  {
   "cell_type": "code",
   "execution_count": null,
   "outputs": [],
   "source": [
    "# investigate using max force index for trimming stress\n",
    "dataitem = trimmed_dataset[0]\n",
    "\n",
    "max_force_index = dataitem.data['Force(kN)'].idxmax()\n",
    "trailing_data = dataitem.data.iloc[max_force_index:].copy()\n",
    "trailing_data[['trailing_stress', 'trailing_force']] = trailing_data[['Stress(MPa)', 'Force(kN)']]\n",
    "trailing_data['trailing_force'] = trailing_data['Force(kN)']\n",
    "\n",
    "ax = dataitem.data.plot(x='Strain', y=['Stress(MPa)', 'Force(kN)'])\n",
    "trailing_data.plot(ax=ax, x='Strain', y=['trailing_stress', 'trailing_force'])"
   ],
   "metadata": {
    "collapsed": false,
    "pycharm": {
     "is_executing": true
    }
   }
  },
  {
   "cell_type": "code",
   "execution_count": null,
   "outputs": [],
   "source": [
    "# demonstrate max force trimming for one dataitem\n",
    "def remove_trailing_data(di: DataItem):\n",
    "    di.data = di.data.iloc[:di.data['Force(kN)'].idxmax()]\n",
    "    return di\n",
    "\n",
    "trimmed_dataitem = remove_trailing_data(dataitem)\n",
    "trimmed_dataitem.data.plot(x='Strain', y=['Stress(MPa)', 'Force(kN)'])"
   ],
   "metadata": {
    "collapsed": false,
    "pycharm": {
     "is_executing": true
    }
   }
  },
  {
   "cell_type": "code",
   "execution_count": null,
   "outputs": [],
   "source": [
    "# apply trimming function to dataset\n",
    "trimmed_dataset = trimmed_dataset.apply_function(remove_trailing_data)\n",
    "ds_subplot(trimmed_dataset)"
   ],
   "metadata": {
    "collapsed": false,
    "pycharm": {
     "is_executing": true
    }
   }
  },
  {
   "cell_type": "markdown",
   "source": [],
   "metadata": {
    "collapsed": false
   }
  },
  {
   "cell_type": "markdown",
   "source": [
    "### Applying the friction correction.\n",
    "$$\n",
    "\\sigma = P \\left[\\frac{h}{\\mu d} \\right]^{-2}\\left[\\exp\\left(\\frac{\\mu d}{h}\\right) - \\frac{\\mu d}{h} - 1 \\right]^{-1}\n",
    "$$"
   ],
   "metadata": {
    "collapsed": false
   },
   "execution_count": 72
  },
  {
   "cell_type": "code",
   "execution_count": null,
   "outputs": [],
   "source": [
    "trimmed_dataset[0]"
   ],
   "metadata": {
    "collapsed": false,
    "pycharm": {
     "is_executing": true
    }
   }
  },
  {
   "cell_type": "code",
   "execution_count": null,
   "outputs": [],
   "source": [
    "# demonstrate friction correction for one dataitem\n",
    "dataitem = trimmed_dataset[0]\n",
    "\n",
    "h_0 = dataitem.info['L_0'] # initial height in axial direction\n",
    "d_0 = dataitem.info['D_0']  # initial diameter\n",
    "\n",
    "h = h_0 - dataitem.data['Jaw(mm)']  # instantaneous height\n",
    "d = d_0*np.sqrt(h_0/h)  # instantaneous diameter\n",
    "P = dataitem.data['Force(kN)']*1000*4/(np.pi*d ** 2)  # pressure (MPa)\n",
    "mu = 0.3  # friction coefficient\n",
    "\n",
    "dataitem.data['Corrected Stress(MPa)']  = P/(1 + (mu*d)/(3*h))\n",
    "dataitem.data.plot(x='Strain', y=['Stress(MPa)', 'Corrected Stress(MPa)'])"
   ],
   "metadata": {
    "collapsed": false,
    "pycharm": {
     "is_executing": true
    }
   }
  },
  {
   "cell_type": "code",
   "execution_count": null,
   "outputs": [],
   "source": [
    "# apply friction correction function to dataset\n",
    "def friction_correction(di: DataItem) -> DataItem:\n",
    "    mu = 0.3  # friction coefficient\n",
    "    h_0 = di.info['L_0'] # initial height in axial direction\n",
    "    d_0 = di.info['D_0']  # initial diameter\n",
    "    h = h_0 - di.data['Jaw(mm)']  # instantaneous height\n",
    "    d = d_0*np.sqrt(h_0/h)  # instantaneous diameter\n",
    "    P = di.data['Force(kN)']*1000*4/(np.pi*d ** 2)  # pressure (MPa)\n",
    "    di.data['Pressure(MPa)'] = P\n",
    "    di.data['Stress(MPa)']  = P/(1 + (mu*d)/(3*h))  # correct stress\n",
    "    return di\n",
    "\n",
    "corrected_dataset = trimmed_dataset.apply(friction_correction)\n",
    "ds_subplot(corrected_dataset)"
   ],
   "metadata": {
    "collapsed": false,
    "pycharm": {
     "is_executing": true
    }
   }
  },
  {
   "cell_type": "code",
   "execution_count": null,
   "outputs": [],
   "source": [
    "# compare corrected to un-corrected for a subset\n",
    "ax = ds_plot(trimmed_dataset[{'material':['AC'], 'rate':[1]}], alpha=0.3)\n",
    "ds_plot(corrected_dataset[{'material':['AC'], 'rate':[1]}], ax=ax)"
   ],
   "metadata": {
    "collapsed": false,
    "pycharm": {
     "is_executing": true
    }
   }
  },
  {
   "cell_type": "markdown",
   "source": [
    "### Writing processed data to new folder"
   ],
   "metadata": {
    "collapsed": false
   }
  },
  {
   "cell_type": "code",
   "execution_count": null,
   "outputs": [],
   "source": [
    "corrected_dataset.write_output('data/02 processed data', 'info/02 processed info.xlsx')"
   ],
   "metadata": {
    "collapsed": false,
    "pycharm": {
     "is_executing": true
    }
   }
  },
  {
   "cell_type": "markdown",
   "source": [
    "### Making representative curves\n"
   ],
   "metadata": {
    "collapsed": false
   }
  },
  {
   "cell_type": "code",
   "execution_count": null,
   "outputs": [],
   "source": [],
   "metadata": {
    "collapsed": false,
    "pycharm": {
     "is_executing": true
    }
   }
  },
  {
   "cell_type": "markdown",
   "source": [
    "## Screening"
   ],
   "metadata": {
    "collapsed": false
   }
  },
  {
   "cell_type": "markdown",
   "source": [
    "## Modelling\n",
    "1. Identify points of interest algorithmically\n",
    "2. Fit material model"
   ],
   "metadata": {
    "collapsed": false
   }
  }
 ],
 "metadata": {
  "kernelspec": {
   "display_name": "Python 3",
   "language": "python",
   "name": "python3"
  },
  "language_info": {
   "codemirror_mode": {
    "name": "ipython",
    "version": 2
   },
   "file_extension": ".py",
   "mimetype": "text/x-python",
   "name": "python",
   "nbconvert_exporter": "python",
   "pygments_lexer": "ipython2",
   "version": "2.7.6"
  }
 },
 "nbformat": 4,
 "nbformat_minor": 0
}
