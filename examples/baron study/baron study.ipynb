{
 "cells": [
  {
   "cell_type": "markdown",
   "metadata": {
    "collapsed": true,
    "pycharm": {
     "name": "#%% md\n"
    }
   },
   "source": [
    "# Case study of uniaxial compression tests\n",
    "\n",
    "This is an example of how to use Paramaterial to process a dataset of uniaxial compression test measurements.\n",
    "The data should be formatted as a set of csv files containing measurements for each test, and a single excel spreadsheet containing the metadata for the dataset.\n",
    "There should be a single row in the excel spreadsheet for each csv file.\n",
    "\n",
    "The analysis takes 4 stages:\n",
    "- Data preparation\n",
    "- Data processing\n",
    "- Model fitting\n",
    "- Test report generation"
   ],
   "outputs": []
  },
  {
   "cell_type": "code",
   "execution_count": 36,
   "outputs": [],
   "source": [
    "import paramaterial as pam\n",
    "import pandas as pd\n",
    "\n",
    "from paramaterial.plug import DataSet"
   ],
   "metadata": {
    "collapsed": false,
    "pycharm": {
     "name": "#%%\n"
    }
   }
  },
  {
   "cell_type": "markdown",
   "source": [
    "## Data preparation\n",
    "\n",
    "Create three directories: \"data\", \"info\" and \"output\".\n",
    "\n"
   ],
   "metadata": {
    "collapsed": false,
    "pycharm": {
     "name": "#%% md\n"
    }
   }
  },
  {
   "cell_type": "markdown",
   "source": [
    "### Prepare raw data\n",
    "First, save all csv files into a directory called \"data/00 backup data\".\n",
    "Generate a corresponding info table \"info/00 backup info.xlsx\" using make_info_table function.\n",
    "The function writes the table to a spreadsheet and returns it as a dataframe.\n",
    "Fill in the info and save backup info and data. Copy to raw info and data."
   ],
   "metadata": {
    "collapsed": false,
    "pycharm": {
     "name": "#%% md\n"
    }
   }
  },
  {
   "cell_type": "code",
   "execution_count": 37,
   "outputs": [
    {
     "data": {
      "text/plain": "  test id     old filename temperature rate material\n0     NaN  testID_0080.csv         NaN  NaN      NaN\n1     NaN  testID_0081.csv         NaN  NaN      NaN\n2     NaN  testID_0082.csv         NaN  NaN      NaN\n3     NaN  testID_0083.csv         NaN  NaN      NaN\n4     NaN  testID_0084.csv         NaN  NaN      NaN",
      "text/html": "<div>\n<style scoped>\n    .dataframe tbody tr th:only-of-type {\n        vertical-align: middle;\n    }\n\n    .dataframe tbody tr th {\n        vertical-align: top;\n    }\n\n    .dataframe thead th {\n        text-align: right;\n    }\n</style>\n<table border=\"1\" class=\"dataframe\">\n  <thead>\n    <tr style=\"text-align: right;\">\n      <th></th>\n      <th>test id</th>\n      <th>old filename</th>\n      <th>temperature</th>\n      <th>rate</th>\n      <th>material</th>\n    </tr>\n  </thead>\n  <tbody>\n    <tr>\n      <th>0</th>\n      <td>NaN</td>\n      <td>testID_0080.csv</td>\n      <td>NaN</td>\n      <td>NaN</td>\n      <td>NaN</td>\n    </tr>\n    <tr>\n      <th>1</th>\n      <td>NaN</td>\n      <td>testID_0081.csv</td>\n      <td>NaN</td>\n      <td>NaN</td>\n      <td>NaN</td>\n    </tr>\n    <tr>\n      <th>2</th>\n      <td>NaN</td>\n      <td>testID_0082.csv</td>\n      <td>NaN</td>\n      <td>NaN</td>\n      <td>NaN</td>\n    </tr>\n    <tr>\n      <th>3</th>\n      <td>NaN</td>\n      <td>testID_0083.csv</td>\n      <td>NaN</td>\n      <td>NaN</td>\n      <td>NaN</td>\n    </tr>\n    <tr>\n      <th>4</th>\n      <td>NaN</td>\n      <td>testID_0084.csv</td>\n      <td>NaN</td>\n      <td>NaN</td>\n      <td>NaN</td>\n    </tr>\n  </tbody>\n</table>\n</div>"
     },
     "execution_count": 37,
     "metadata": {},
     "output_type": "execute_result"
    }
   ],
   "source": [
    "backup_info = pam.preparing.make_info_table('data/00 backup data', columns=['temperature', 'rate', 'material'])\n",
    "backup_info.to_excel('info/00 backup info unfilled.xlsx')\n",
    "backup_info.head()"
   ],
   "metadata": {
    "collapsed": false,
    "pycharm": {
     "name": "#%%\n"
    }
   }
  },
  {
   "cell_type": "markdown",
   "source": [
    "Add the metadata into the excel spreadsheet.\n",
    "Apply a naming convention in the \"test id\" column."
   ],
   "metadata": {
    "collapsed": false
   }
  },
  {
   "cell_type": "code",
   "execution_count": 38,
   "outputs": [
    {
     "data": {
      "text/plain": "          test id     old filename test type material  temperature  rate  L_0  \\\n0  baron_test_001  testID_0080.csv        UC       AC          300   100   15   \n1  baron_test_002  testID_0081.csv        UC       AC          300   100   15   \n2  baron_test_003  testID_0082.csv        UC       AC          330   100   15   \n3  baron_test_004  testID_0083.csv        UC       AC          330   100   15   \n4  baron_test_005  testID_0084.csv        UC       AC          360   100   15   \n\n   D_0  \n0   10  \n1   10  \n2   10  \n3   10  \n4   10  ",
      "text/html": "<div>\n<style scoped>\n    .dataframe tbody tr th:only-of-type {\n        vertical-align: middle;\n    }\n\n    .dataframe tbody tr th {\n        vertical-align: top;\n    }\n\n    .dataframe thead th {\n        text-align: right;\n    }\n</style>\n<table border=\"1\" class=\"dataframe\">\n  <thead>\n    <tr style=\"text-align: right;\">\n      <th></th>\n      <th>test id</th>\n      <th>old filename</th>\n      <th>test type</th>\n      <th>material</th>\n      <th>temperature</th>\n      <th>rate</th>\n      <th>L_0</th>\n      <th>D_0</th>\n    </tr>\n  </thead>\n  <tbody>\n    <tr>\n      <th>0</th>\n      <td>baron_test_001</td>\n      <td>testID_0080.csv</td>\n      <td>UC</td>\n      <td>AC</td>\n      <td>300</td>\n      <td>100</td>\n      <td>15</td>\n      <td>10</td>\n    </tr>\n    <tr>\n      <th>1</th>\n      <td>baron_test_002</td>\n      <td>testID_0081.csv</td>\n      <td>UC</td>\n      <td>AC</td>\n      <td>300</td>\n      <td>100</td>\n      <td>15</td>\n      <td>10</td>\n    </tr>\n    <tr>\n      <th>2</th>\n      <td>baron_test_003</td>\n      <td>testID_0082.csv</td>\n      <td>UC</td>\n      <td>AC</td>\n      <td>330</td>\n      <td>100</td>\n      <td>15</td>\n      <td>10</td>\n    </tr>\n    <tr>\n      <th>3</th>\n      <td>baron_test_004</td>\n      <td>testID_0083.csv</td>\n      <td>UC</td>\n      <td>AC</td>\n      <td>330</td>\n      <td>100</td>\n      <td>15</td>\n      <td>10</td>\n    </tr>\n    <tr>\n      <th>4</th>\n      <td>baron_test_005</td>\n      <td>testID_0084.csv</td>\n      <td>UC</td>\n      <td>AC</td>\n      <td>360</td>\n      <td>100</td>\n      <td>15</td>\n      <td>10</td>\n    </tr>\n  </tbody>\n</table>\n</div>"
     },
     "execution_count": 38,
     "metadata": {},
     "output_type": "execute_result"
    }
   ],
   "source": [
    "backup_info = pd.read_excel('info/00 backup info.xlsx')\n",
    "backup_info.head()"
   ],
   "metadata": {
    "collapsed": false,
    "pycharm": {
     "name": "#%%\n"
    }
   }
  },
  {
   "cell_type": "markdown",
   "source": [
    "Copy backup data and info into raw data and info, then leave backup alone in all further steps."
   ],
   "metadata": {
    "collapsed": false
   }
  },
  {
   "cell_type": "code",
   "execution_count": 39,
   "outputs": [
    {
     "name": "stdout",
     "output_type": "stream",
     "text": [
      "Copied 167 files from data/00 backup data to data/01 prepared data.\n",
      "Copied info table from info/00 backup info.xlsx to info/01 prepared info.xlsx.\n"
     ]
    }
   ],
   "source": [
    "pam.preparing.copy_data_and_info(old_data_dir='data/00 backup data', new_data_dir='data/01 prepared data',\n",
    "                                 old_info_path='info/00 backup info.xlsx', new_info_path='info/01 prepared info.xlsx')"
   ],
   "metadata": {
    "collapsed": false,
    "pycharm": {
     "name": "#%%\n"
    }
   }
  },
  {
   "cell_type": "markdown",
   "source": [
    "### Preparing raw data\n",
    "\n",
    "Rename files according to test id."
   ],
   "metadata": {
    "collapsed": false,
    "pycharm": {
     "name": "#%% md\n"
    }
   }
  },
  {
   "cell_type": "code",
   "execution_count": 40,
   "outputs": [],
   "source": [
    "# pam.preparing.rename_by_test_id('data/01 prepared data', 'info/01 prepared info.xlsx')"
   ],
   "metadata": {
    "collapsed": false,
    "pycharm": {
     "name": "#%%\n"
    }
   }
  },
  {
   "cell_type": "markdown",
   "source": [
    "Check that column headers of data files are all the same. If not the same, fix."
   ],
   "metadata": {
    "collapsed": false,
    "pycharm": {
     "name": "#%% md\n"
    }
   }
  },
  {
   "cell_type": "code",
   "execution_count": 41,
   "outputs": [
    {
     "name": "stdout",
     "output_type": "stream",
     "text": [
      "Checking column headers...\n",
      "First file headers:\n",
      "\t['Time(sec)', 'Force(kN)', 'Jaw(mm)', 'PowAngle(deg)', 'Power(W)', 'Pram', 'PTemp', 'Strain', 'Stress(MPa)', 'Stroke(mm)', 'TC1(C)', 'wedge(mm)']\n",
      "Headers in all files are the same as in the first file.\n"
     ]
    }
   ],
   "source": [
    "pam.preparing.check_column_headers('data/01 prepared data')"
   ],
   "metadata": {
    "collapsed": false,
    "pycharm": {
     "name": "#%%\n"
    }
   }
  },
  {
   "cell_type": "code",
   "execution_count": 42,
   "outputs": [],
   "source": [
    "raw_dataset = DataSet('data/01 prepared data', 'info/01 prepared info.xlsx')"
   ],
   "metadata": {
    "collapsed": false,
    "pycharm": {
     "name": "#%%\n"
    }
   }
  },
  {
   "cell_type": "markdown",
   "source": [
    "## Exploratory Data Analysis"
   ],
   "metadata": {
    "collapsed": false,
    "pycharm": {
     "name": "#%% md\n"
    }
   }
  },
  {
   "cell_type": "code",
   "execution_count": 43,
   "outputs": [
    {
     "data": {
      "text/plain": "       temperature        rate    L_0    D_0\ncount   167.000000  167.000000  167.0  167.0\nmean    374.970060   35.191617   15.0   10.0\nstd      60.209216   36.627880    0.0    0.0\nmin     300.000000    1.000000   15.0   10.0\n25%     330.000000   10.000000   15.0   10.0\n50%     360.000000   10.000000   15.0   10.0\n75%     400.000000   50.000000   15.0   10.0\nmax     500.000000  100.000000   15.0   10.0",
      "text/html": "<div>\n<style scoped>\n    .dataframe tbody tr th:only-of-type {\n        vertical-align: middle;\n    }\n\n    .dataframe tbody tr th {\n        vertical-align: top;\n    }\n\n    .dataframe thead th {\n        text-align: right;\n    }\n</style>\n<table border=\"1\" class=\"dataframe\">\n  <thead>\n    <tr style=\"text-align: right;\">\n      <th></th>\n      <th>temperature</th>\n      <th>rate</th>\n      <th>L_0</th>\n      <th>D_0</th>\n    </tr>\n  </thead>\n  <tbody>\n    <tr>\n      <th>count</th>\n      <td>167.000000</td>\n      <td>167.000000</td>\n      <td>167.0</td>\n      <td>167.0</td>\n    </tr>\n    <tr>\n      <th>mean</th>\n      <td>374.970060</td>\n      <td>35.191617</td>\n      <td>15.0</td>\n      <td>10.0</td>\n    </tr>\n    <tr>\n      <th>std</th>\n      <td>60.209216</td>\n      <td>36.627880</td>\n      <td>0.0</td>\n      <td>0.0</td>\n    </tr>\n    <tr>\n      <th>min</th>\n      <td>300.000000</td>\n      <td>1.000000</td>\n      <td>15.0</td>\n      <td>10.0</td>\n    </tr>\n    <tr>\n      <th>25%</th>\n      <td>330.000000</td>\n      <td>10.000000</td>\n      <td>15.0</td>\n      <td>10.0</td>\n    </tr>\n    <tr>\n      <th>50%</th>\n      <td>360.000000</td>\n      <td>10.000000</td>\n      <td>15.0</td>\n      <td>10.0</td>\n    </tr>\n    <tr>\n      <th>75%</th>\n      <td>400.000000</td>\n      <td>50.000000</td>\n      <td>15.0</td>\n      <td>10.0</td>\n    </tr>\n    <tr>\n      <th>max</th>\n      <td>500.000000</td>\n      <td>100.000000</td>\n      <td>15.0</td>\n      <td>10.0</td>\n    </tr>\n  </tbody>\n</table>\n</div>"
     },
     "execution_count": 43,
     "metadata": {},
     "output_type": "execute_result"
    }
   ],
   "source": [
    "raw_info = raw_dataset.info_table\n",
    "raw_info.describe()"
   ],
   "metadata": {
    "collapsed": false,
    "pycharm": {
     "name": "#%%\n"
    }
   }
  },
  {
   "cell_type": "code",
   "execution_count": 44,
   "outputs": [
    {
     "data": {
      "text/plain": "test id         167\nold filename    167\ntest type         1\nmaterial          3\ntemperature       6\nrate              4\nL_0               1\nD_0               1\ndtype: int64"
     },
     "execution_count": 44,
     "metadata": {},
     "output_type": "execute_result"
    }
   ],
   "source": [
    "raw_info.nunique()"
   ],
   "metadata": {
    "collapsed": false,
    "pycharm": {
     "name": "#%%\n"
    }
   }
  },
  {
   "cell_type": "code",
   "execution_count": 48,
   "outputs": [
    {
     "data": {
      "text/plain": "material  temperature  rate\nAC        300          10      2\n                       50      2\n                       100     2\n          330          10      2\n                       50      3\n                       100     2\n          360          10      2\n                       50      3\n                       100     3\n          400          1       2\n                       10      2\n                       50      2\n                       100     2\n          450          1       2\n                       10      2\n          500          1       2\n                       10      2\nH560      300          10      6\n                       50      2\n                       100     2\n          330          10      4\n                       50      2\n                       100     2\n          360          1       2\n                       10      4\n                       50      2\n                       100     2\n          400          1       2\n                       10      2\n                       50      5\n                       100     1\n          450          1       3\n                       10      2\n          500          1       2\n                       10      2\nH580      300          10      9\n                       50      4\n                       100     2\n          330          10      7\n                       50      5\n                       100     5\n          360          1       1\n                       10      4\n                       50      3\n                       100     5\n          400          1       5\n                       10      7\n                       50      4\n                       100     5\n          450          1       4\n                       10      7\n          500          1       2\n                       10      4\ndtype: int64"
     },
     "execution_count": 48,
     "metadata": {},
     "output_type": "execute_result"
    }
   ],
   "source": [
    "data_matrix = raw_info[['material', 'temperature', 'rate']].value_counts().sort_index()\n",
    "data_matrix"
   ],
   "metadata": {
    "collapsed": false,
    "pycharm": {
     "name": "#%%\n"
    }
   }
  },
  {
   "cell_type": "markdown",
   "source": [
    "Make the experimental matrix."
   ],
   "metadata": {
    "collapsed": false,
    "pycharm": {
     "name": "#%% md\n"
    }
   }
  },
  {
   "cell_type": "code",
   "source": [
    "data_matrix = data_matrix.to_frame().reset_index()\n",
    "data_matrix.columns = ['material', 'temperature', 'rate', 'count']\n",
    "data_matrix.pivot_table(index=['material', 'rate'], columns='temperature', values='count').fillna(0).astype(int)"
   ],
   "metadata": {
    "collapsed": false,
    "pycharm": {
     "name": "#%%\n"
    }
   },
   "execution_count": 49,
   "outputs": [
    {
     "data": {
      "text/plain": "temperature    300  330  360  400  450  500\nmaterial rate                              \nAC       1       0    0    0    2    2    2\n         10      2    2    2    2    2    2\n         50      2    3    3    2    0    0\n         100     2    2    3    2    0    0\nH560     1       0    0    2    2    3    2\n         10      6    4    4    2    2    2\n         50      2    2    2    5    0    0\n         100     2    2    2    1    0    0\nH580     1       0    0    1    5    4    2\n         10      9    7    4    7    7    4\n         50      4    5    3    4    0    0\n         100     2    5    5    5    0    0",
      "text/html": "<div>\n<style scoped>\n    .dataframe tbody tr th:only-of-type {\n        vertical-align: middle;\n    }\n\n    .dataframe tbody tr th {\n        vertical-align: top;\n    }\n\n    .dataframe thead th {\n        text-align: right;\n    }\n</style>\n<table border=\"1\" class=\"dataframe\">\n  <thead>\n    <tr style=\"text-align: right;\">\n      <th></th>\n      <th>temperature</th>\n      <th>300</th>\n      <th>330</th>\n      <th>360</th>\n      <th>400</th>\n      <th>450</th>\n      <th>500</th>\n    </tr>\n    <tr>\n      <th>material</th>\n      <th>rate</th>\n      <th></th>\n      <th></th>\n      <th></th>\n      <th></th>\n      <th></th>\n      <th></th>\n    </tr>\n  </thead>\n  <tbody>\n    <tr>\n      <th rowspan=\"4\" valign=\"top\">AC</th>\n      <th>1</th>\n      <td>0</td>\n      <td>0</td>\n      <td>0</td>\n      <td>2</td>\n      <td>2</td>\n      <td>2</td>\n    </tr>\n    <tr>\n      <th>10</th>\n      <td>2</td>\n      <td>2</td>\n      <td>2</td>\n      <td>2</td>\n      <td>2</td>\n      <td>2</td>\n    </tr>\n    <tr>\n      <th>50</th>\n      <td>2</td>\n      <td>3</td>\n      <td>3</td>\n      <td>2</td>\n      <td>0</td>\n      <td>0</td>\n    </tr>\n    <tr>\n      <th>100</th>\n      <td>2</td>\n      <td>2</td>\n      <td>3</td>\n      <td>2</td>\n      <td>0</td>\n      <td>0</td>\n    </tr>\n    <tr>\n      <th rowspan=\"4\" valign=\"top\">H560</th>\n      <th>1</th>\n      <td>0</td>\n      <td>0</td>\n      <td>2</td>\n      <td>2</td>\n      <td>3</td>\n      <td>2</td>\n    </tr>\n    <tr>\n      <th>10</th>\n      <td>6</td>\n      <td>4</td>\n      <td>4</td>\n      <td>2</td>\n      <td>2</td>\n      <td>2</td>\n    </tr>\n    <tr>\n      <th>50</th>\n      <td>2</td>\n      <td>2</td>\n      <td>2</td>\n      <td>5</td>\n      <td>0</td>\n      <td>0</td>\n    </tr>\n    <tr>\n      <th>100</th>\n      <td>2</td>\n      <td>2</td>\n      <td>2</td>\n      <td>1</td>\n      <td>0</td>\n      <td>0</td>\n    </tr>\n    <tr>\n      <th rowspan=\"4\" valign=\"top\">H580</th>\n      <th>1</th>\n      <td>0</td>\n      <td>0</td>\n      <td>1</td>\n      <td>5</td>\n      <td>4</td>\n      <td>2</td>\n    </tr>\n    <tr>\n      <th>10</th>\n      <td>9</td>\n      <td>7</td>\n      <td>4</td>\n      <td>7</td>\n      <td>7</td>\n      <td>4</td>\n    </tr>\n    <tr>\n      <th>50</th>\n      <td>4</td>\n      <td>5</td>\n      <td>3</td>\n      <td>4</td>\n      <td>0</td>\n      <td>0</td>\n    </tr>\n    <tr>\n      <th>100</th>\n      <td>2</td>\n      <td>5</td>\n      <td>5</td>\n      <td>5</td>\n      <td>0</td>\n      <td>0</td>\n    </tr>\n  </tbody>\n</table>\n</div>"
     },
     "execution_count": 49,
     "metadata": {},
     "output_type": "execute_result"
    }
   ]
  },
  {
   "cell_type": "markdown",
   "source": [
    "Plot the dataset."
   ],
   "metadata": {
    "collapsed": false,
    "pycharm": {
     "name": "#%% md\n"
    }
   }
  },
  {
   "cell_type": "code",
   "execution_count": 46,
   "outputs": [],
   "source": [
    "pam.plotting.data"
   ],
   "metadata": {
    "collapsed": false,
    "pycharm": {
     "name": "#%%\n"
    }
   }
  },
  {
   "cell_type": "code",
   "execution_count": 47,
   "outputs": [
    {
     "name": "stderr",
     "output_type": "stream",
     "text": [
      "100%|██████████| 167/167 [00:10<00:00, 15.63it/s]\n"
     ]
    }
   ],
   "source": [
    "raw_dataset.write_output('data/02 test output', 'info/02 test output.xlsx')"
   ],
   "metadata": {
    "collapsed": false,
    "pycharm": {
     "name": "#%%\n"
    }
   }
  }
 ],
 "metadata": {
  "kernelspec": {
   "display_name": "Python 3",
   "language": "python",
   "name": "python3"
  },
  "language_info": {
   "codemirror_mode": {
    "name": "ipython",
    "version": 2
   },
   "file_extension": ".py",
   "mimetype": "text/x-python",
   "name": "python",
   "nbconvert_exporter": "python",
   "pygments_lexer": "ipython2",
   "version": "2.7.6"
  }
 },
 "nbformat": 4,
 "nbformat_minor": 0
}