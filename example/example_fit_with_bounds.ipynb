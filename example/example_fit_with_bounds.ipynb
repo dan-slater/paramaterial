{
 "cells": [
  {
   "cell_type": "markdown",
   "metadata": {},
   "source": [
    "\n",
    "# Fit Using Bounds\n",
    "\n",
    "A major advantage of using lmfit is that one can specify boundaries on fitting\n",
    "parameters, even if the underlying algorithm in SciPy does not support this.\n",
    "For more information on how this is implemented, please refer to:\n",
    "https://lmfit.github.io/lmfit-py/bounds.html\n",
    "\n",
    "The example below shows how to set boundaries using the ``min`` and ``max``\n",
    "attributes to fitting parameters.\n"
   ]
  },
  {
   "cell_type": "code",
   "execution_count": 36,
   "metadata": {
    "collapsed": false
   },
   "outputs": [],
   "source": [
    "\n",
    "import numpy as np\n",
    "from lmfit import Parameters, minimize\n",
    "from numpy import exp, pi, sign, sin"
   ]
  },
  {
   "cell_type": "code",
   "execution_count": 37,
   "outputs": [],
   "source": [
    "\n",
    "from paramaterial import DataSet"
   ],
   "metadata": {
    "collapsed": false,
    "pycharm": {
     "name": "#%%\n"
    }
   }
  },
  {
   "cell_type": "markdown",
   "metadata": {},
   "source": [
    "Define the 'correct' Parameter values and residual function:\n",
    "\n"
   ]
  },
  {
   "cell_type": "code",
   "execution_count": 38,
   "metadata": {
    "collapsed": false
   },
   "outputs": [],
   "source": [
    "p_true = Parameters()\n",
    "p_true.add('amp', value=14.0)\n",
    "p_true.add('period', value=5.4321)\n",
    "p_true.add('shift', value=0.12345)\n",
    "p_true.add('decay', value=0.01000)\n",
    "\n",
    "\n",
    "def residual(pars, x, data=None):\n",
    "    argu = (x*pars['decay'])**2\n",
    "    shift = pars['shift']\n",
    "    if abs(shift) > pi/2:\n",
    "        shift = shift - sign(shift)*pi\n",
    "    model = pars['amp']*sin(shift + x/pars['period'])*exp(-argu)\n",
    "    if data is None:\n",
    "        return model\n",
    "    return model - data"
   ]
  },
  {
   "cell_type": "code",
   "execution_count": 41,
   "outputs": [
    {
     "data": {
      "text/plain": "35     0.000491\n36     0.000538\n37     0.000586\n38     0.000637\n39     0.000684\n         ...   \n128    0.009218\n129    0.009406\n130    0.009593\n131    0.009780\n132    0.009967\nName: Strain, Length: 98, dtype: float64"
     },
     "execution_count": 41,
     "metadata": {},
     "output_type": "execute_result"
    }
   ],
   "source": [
    "ds = DataSet('data/02 trimmed small data', 'info/02 trimmed small info.xlsx')\n",
    "data = ds[0].data\n",
    "data = data[data['Stress_MPa'] > 50]\n",
    "data.Strain"
   ],
   "metadata": {
    "collapsed": false,
    "pycharm": {
     "name": "#%%\n"
    }
   }
  },
  {
   "cell_type": "code",
   "execution_count": 69,
   "outputs": [
    {
     "name": "stdout",
     "output_type": "stream",
     "text": [
      "[[Fit Statistics]]\n",
      "    # fitting method   = leastsq\n",
      "    # function evals   = 100\n",
      "    # data points      = 98\n",
      "    # variables        = 4\n",
      "    chi-square         = 7011644.53\n",
      "    reduced chi-square = 74591.9631\n",
      "    Akaike info crit   = 1103.45530\n",
      "    Bayesian info crit = 1113.79517\n",
      "##  Warning: uncertainties could not be estimated:\n",
      "    sig_E:  at boundary\n",
      "    E:      at initial value\n",
      "    E:      at boundary\n",
      "    C:      at initial value\n",
      "    C:      at boundary\n",
      "[[Variables]]\n",
      "    sig_E:  100.000000 (init = 230)\n",
      "    E:      70000.0004 (init = 70000)\n",
      "    C:      100.000000 (init = 100)\n",
      "    n:      0.10002877 (init = 1.1)\n"
     ]
    }
   ],
   "source": [
    "params = Parameters()\n",
    "params.add('sig_E', value=230, vary=True, min=100)\n",
    "params.add('E', value=70e3, vary=True, min=7e4, max=1.4e5)\n",
    "params.add('C', value=100, vary=True, min=100)\n",
    "params.add('n', value=1.1, vary=True, min=0.1)\n",
    "\n",
    "\n",
    "def ramberg(eps, E, sig_E, C, n):\n",
    "    sig = []\n",
    "    for e in eps:\n",
    "        if e <= sig_E/E:\n",
    "            e_e = e\n",
    "            e_p = 0\n",
    "        else:\n",
    "            e_e = sig_E/E\n",
    "            e_p = e - e_e\n",
    "        sig.append(E*e_e + C*(e_p**n))\n",
    "\n",
    "    return np.array(sig)\n",
    "\n",
    "\n",
    "def residuals(p, eps):\n",
    "    return ramberg(eps, p['E'], p['sig_E'], p['C'], p['n']) - data['Strain'].values\n",
    "\n",
    "\n",
    "out = minimize(residuals, params, args=(data.Stress_MPa,))\n",
    "report_fit(out)"
   ],
   "metadata": {
    "collapsed": false,
    "pycharm": {
     "name": "#%%\n"
    }
   }
  },
  {
   "cell_type": "code",
   "execution_count": 70,
   "outputs": [
    {
     "data": {
      "text/plain": "[<matplotlib.lines.Line2D at 0x1f4af616020>]"
     },
     "execution_count": 70,
     "metadata": {},
     "output_type": "execute_result"
    },
    {
     "data": {
      "text/plain": "<Figure size 640x480 with 1 Axes>",
      "image/png": "[encoded data removed]"
     },
     "metadata": {},
     "output_type": "display_data"
    }
   ],
   "source": [
    "fit = ramberg(data.Strain, **out.params)\n",
    "ax = data.plot(x='Strain', y='Stress_MPa')\n",
    "ax.plot(data.Strain, fit)"
   ],
   "metadata": {
    "collapsed": false,
    "pycharm": {
     "name": "#%%\n"
    }
   }
  }
 ],
 "metadata": {
  "kernelspec": {
   "display_name": "Python 3",
   "language": "python",
   "name": "python3"
  },
  "language_info": {
   "codemirror_mode": {
    "name": "ipython",
    "version": 3
   },
   "file_extension": ".py",
   "mimetype": "text/x-python",
   "name": "python",
   "nbconvert_exporter": "python",
   "pygments_lexer": "ipython3",
   "version": "3.10.8"
  }
 },
 "nbformat": 4,
 "nbformat_minor": 0
}