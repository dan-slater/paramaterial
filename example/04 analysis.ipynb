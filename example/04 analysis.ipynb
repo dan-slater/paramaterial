{
 "cells": [
  {
   "cell_type": "markdown",
   "source": [],
   "metadata": {
    "collapsed": false
   }
  },
  {
   "cell_type": "markdown",
   "source": [
    "# Case study of uniaxial tensile tests\n",
    "\n",
    "This is an example of how to use Paramaterial to process a dataset of uniaxial tensile test measurements.\n",
    "The data should be formatted as a set of csv files containing measurements for each test, and a single excel spreadsheet containing the metadata for the dataset.\n",
    "There should be a single row in the excel spreadsheet for each csv file.\n",
    "\n",
    "The analysis takes 4 stages:\n",
    "- Data preparation\n",
    "- Data processing\n",
    "- Model fitting\n",
    "- Test report generation"
   ],
   "metadata": {
    "collapsed": false
   }
  },
  {
   "cell_type": "markdown",
   "source": [
    "## Analysis\n",
    "Comparison to reference material properties and model parameters."
   ],
   "metadata": {
    "collapsed": false
   }
  },
  {
   "cell_type": "code",
   "execution_count": 7,
   "outputs": [],
   "source": [
    "import numpy as np\n",
    "import pandas as pd\n",
    "import matplotlib.pyplot as plt\n",
    "\n",
    "import paramaterial as pam\n",
    "from paramaterial import DataSet, DataItem\n"
   ],
   "metadata": {
    "collapsed": false
   }
  },
  {
   "cell_type": "markdown",
   "source": [
    "### Reference results\n"
   ],
   "metadata": {
    "collapsed": false
   }
  },
  {
   "cell_type": "code",
   "execution_count": 8,
   "outputs": [
    {
     "data": {
      "text/plain": "                          Property      T20  T20 error     T100  T100 error  \\\n0            Elastic Modulus (Gpa)   60.500     5.4000   59.100      5.4800   \n1       Tensile Yield Stress (MPa)  259.000    16.9000  245.000     15.5000   \n2    Tensile Ultimate Stress (MPa)  288.000    17.8000  261.000     17.5000   \n3       Strain at Yield Stress (%)    0.632     0.0517    0.618      0.0594   \n4    Strain at Ultimate Stress (%)    8.230     1.0000    6.910      1.0000   \n5            Strain at Failure (%)   10.800     2.0000   14.700      3.0000   \n6      Ramberg-Osgood n (Fp to Fy)   10.200     0.5000    9.660      0.5000   \n7      Ramberg-Osgood n (Fp to Fu)   20.700     2.0000   24.900      2.0000   \n8    Elastic Energy Density  (MPa)    1.020     0.1280    0.960      0.1360   \n9   Hardening Energy Density (MPa)   21.300     3.8100   16.300      4.6300   \n10  Softening Energy Density (MPa)    7.020     2.1800   19.100      7.4800   \n11      Total Energy Density (MPa)   29.300     4.4300   36.400      6.5100   \n\n       T150  T150 error     T200  T200 error     T250  T250 error    T300  \\\n0    51.000      4.4700    5.200      5.8600   40.300      3.7900  39.700   \n1   229.000     16.5000  194.000     14.4000  141.000      9.8900  82.900   \n2   234.000     16.7000  195.000     14.8000  142.000      9.5400  84.100   \n3     0.647      0.0572    0.589      0.0729    0.551      0.0355   0.418   \n4     3.470      1.0000    0.924      0.3000    0.686      0.0500   0.724   \n5    17.900      5.0000   15.000      4.0000   11.700      3.0000  15.200   \n6     9.210      0.4000    9.700      0.4000   10.100      0.8000  10.200   \n7    22.000      6.0000   12.100      2.0000   10.700      0.4000  12.300   \n8     0.912      0.1330    0.734      0.1300    0.502      0.0610   0.240   \n9     7.190      2.9600    0.762      0.5940    0.201      0.0925   0.261   \n10   30.800      8.6600   23.800      5.6700   12.800      3.2900   9.360   \n11   38.300      7.9300   25.200      5.3700   13.500      3.2400   9.870   \n\n    T300 error  \n0       9.0600  \n1       7.9600  \n2       8.0200  \n3       0.0476  \n4       0.2000  \n5       4.0000  \n6       0.6000  \n7       1.0000  \n8       0.0312  \n9       0.1080  \n10      1.7200  \n11      1.6900  ",
      "text/html": "<div>\n<style scoped>\n    .dataframe tbody tr th:only-of-type {\n        vertical-align: middle;\n    }\n\n    .dataframe tbody tr th {\n        vertical-align: top;\n    }\n\n    .dataframe thead th {\n        text-align: right;\n    }\n</style>\n<table border=\"1\" class=\"dataframe\">\n  <thead>\n    <tr style=\"text-align: right;\">\n      <th></th>\n      <th>Property</th>\n      <th>T20</th>\n      <th>T20 error</th>\n      <th>T100</th>\n      <th>T100 error</th>\n      <th>T150</th>\n      <th>T150 error</th>\n      <th>T200</th>\n      <th>T200 error</th>\n      <th>T250</th>\n      <th>T250 error</th>\n      <th>T300</th>\n      <th>T300 error</th>\n    </tr>\n  </thead>\n  <tbody>\n    <tr>\n      <th>0</th>\n      <td>Elastic Modulus (Gpa)</td>\n      <td>60.500</td>\n      <td>5.4000</td>\n      <td>59.100</td>\n      <td>5.4800</td>\n      <td>51.000</td>\n      <td>4.4700</td>\n      <td>5.200</td>\n      <td>5.8600</td>\n      <td>40.300</td>\n      <td>3.7900</td>\n      <td>39.700</td>\n      <td>9.0600</td>\n    </tr>\n    <tr>\n      <th>1</th>\n      <td>Tensile Yield Stress (MPa)</td>\n      <td>259.000</td>\n      <td>16.9000</td>\n      <td>245.000</td>\n      <td>15.5000</td>\n      <td>229.000</td>\n      <td>16.5000</td>\n      <td>194.000</td>\n      <td>14.4000</td>\n      <td>141.000</td>\n      <td>9.8900</td>\n      <td>82.900</td>\n      <td>7.9600</td>\n    </tr>\n    <tr>\n      <th>2</th>\n      <td>Tensile Ultimate Stress (MPa)</td>\n      <td>288.000</td>\n      <td>17.8000</td>\n      <td>261.000</td>\n      <td>17.5000</td>\n      <td>234.000</td>\n      <td>16.7000</td>\n      <td>195.000</td>\n      <td>14.8000</td>\n      <td>142.000</td>\n      <td>9.5400</td>\n      <td>84.100</td>\n      <td>8.0200</td>\n    </tr>\n    <tr>\n      <th>3</th>\n      <td>Strain at Yield Stress (%)</td>\n      <td>0.632</td>\n      <td>0.0517</td>\n      <td>0.618</td>\n      <td>0.0594</td>\n      <td>0.647</td>\n      <td>0.0572</td>\n      <td>0.589</td>\n      <td>0.0729</td>\n      <td>0.551</td>\n      <td>0.0355</td>\n      <td>0.418</td>\n      <td>0.0476</td>\n    </tr>\n    <tr>\n      <th>4</th>\n      <td>Strain at Ultimate Stress (%)</td>\n      <td>8.230</td>\n      <td>1.0000</td>\n      <td>6.910</td>\n      <td>1.0000</td>\n      <td>3.470</td>\n      <td>1.0000</td>\n      <td>0.924</td>\n      <td>0.3000</td>\n      <td>0.686</td>\n      <td>0.0500</td>\n      <td>0.724</td>\n      <td>0.2000</td>\n    </tr>\n    <tr>\n      <th>5</th>\n      <td>Strain at Failure (%)</td>\n      <td>10.800</td>\n      <td>2.0000</td>\n      <td>14.700</td>\n      <td>3.0000</td>\n      <td>17.900</td>\n      <td>5.0000</td>\n      <td>15.000</td>\n      <td>4.0000</td>\n      <td>11.700</td>\n      <td>3.0000</td>\n      <td>15.200</td>\n      <td>4.0000</td>\n    </tr>\n    <tr>\n      <th>6</th>\n      <td>Ramberg-Osgood n (Fp to Fy)</td>\n      <td>10.200</td>\n      <td>0.5000</td>\n      <td>9.660</td>\n      <td>0.5000</td>\n      <td>9.210</td>\n      <td>0.4000</td>\n      <td>9.700</td>\n      <td>0.4000</td>\n      <td>10.100</td>\n      <td>0.8000</td>\n      <td>10.200</td>\n      <td>0.6000</td>\n    </tr>\n    <tr>\n      <th>7</th>\n      <td>Ramberg-Osgood n (Fp to Fu)</td>\n      <td>20.700</td>\n      <td>2.0000</td>\n      <td>24.900</td>\n      <td>2.0000</td>\n      <td>22.000</td>\n      <td>6.0000</td>\n      <td>12.100</td>\n      <td>2.0000</td>\n      <td>10.700</td>\n      <td>0.4000</td>\n      <td>12.300</td>\n      <td>1.0000</td>\n    </tr>\n    <tr>\n      <th>8</th>\n      <td>Elastic Energy Density  (MPa)</td>\n      <td>1.020</td>\n      <td>0.1280</td>\n      <td>0.960</td>\n      <td>0.1360</td>\n      <td>0.912</td>\n      <td>0.1330</td>\n      <td>0.734</td>\n      <td>0.1300</td>\n      <td>0.502</td>\n      <td>0.0610</td>\n      <td>0.240</td>\n      <td>0.0312</td>\n    </tr>\n    <tr>\n      <th>9</th>\n      <td>Hardening Energy Density (MPa)</td>\n      <td>21.300</td>\n      <td>3.8100</td>\n      <td>16.300</td>\n      <td>4.6300</td>\n      <td>7.190</td>\n      <td>2.9600</td>\n      <td>0.762</td>\n      <td>0.5940</td>\n      <td>0.201</td>\n      <td>0.0925</td>\n      <td>0.261</td>\n      <td>0.1080</td>\n    </tr>\n    <tr>\n      <th>10</th>\n      <td>Softening Energy Density (MPa)</td>\n      <td>7.020</td>\n      <td>2.1800</td>\n      <td>19.100</td>\n      <td>7.4800</td>\n      <td>30.800</td>\n      <td>8.6600</td>\n      <td>23.800</td>\n      <td>5.6700</td>\n      <td>12.800</td>\n      <td>3.2900</td>\n      <td>9.360</td>\n      <td>1.7200</td>\n    </tr>\n    <tr>\n      <th>11</th>\n      <td>Total Energy Density (MPa)</td>\n      <td>29.300</td>\n      <td>4.4300</td>\n      <td>36.400</td>\n      <td>6.5100</td>\n      <td>38.300</td>\n      <td>7.9300</td>\n      <td>25.200</td>\n      <td>5.3700</td>\n      <td>13.500</td>\n      <td>3.2400</td>\n      <td>9.870</td>\n      <td>1.6900</td>\n    </tr>\n  </tbody>\n</table>\n</div>"
     },
     "execution_count": 8,
     "metadata": {},
     "output_type": "execute_result"
    }
   ],
   "source": [
    "reference_table = pd.read_excel('info/aakash reference results.xlsx')\n",
    "reference_table"
   ],
   "metadata": {
    "collapsed": false
   }
  }
 ],
 "metadata": {
  "kernelspec": {
   "display_name": "Python 3",
   "language": "python",
   "name": "python3"
  },
  "language_info": {
   "codemirror_mode": {
    "name": "ipython",
    "version": 2
   },
   "file_extension": ".py",
   "mimetype": "text/x-python",
   "name": "python",
   "nbconvert_exporter": "python",
   "pygments_lexer": "ipython2",
   "version": "2.7.6"
  }
 },
 "nbformat": 4,
 "nbformat_minor": 0
}
