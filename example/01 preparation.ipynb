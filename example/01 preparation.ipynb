{
 "cells": [
  {
   "cell_type": "markdown",
   "source": [
    "# Case study of uniaxial tensile tests\n",
    "\n",
    "This is an example of how to use ParaMaterial to process a dataset of uniaxial tensile test measurements.\n",
    "\n"
   ],
   "metadata": {
    "collapsed": false
   }
  },
  {
   "cell_type": "markdown",
   "source": [
    "## Data preparation\n",
    "- [ ] **Make the info table.** This should be a .csv or .xlsx file where the columns are metadata categories. The first column must contain the *test id* --- a unique string that links the information about the test in that row to the measurements data in a separate file.\n",
    "- [ ] **Format the data files.** The time-series measurements for each test should be saved in a file named \"*\\<test id\\>*.csv\".\n",
    "- [ ] **Exploratory data analysis.** Quick investigation and categorisation of subsets. Visualisation of data.\n",
    "- [ ] **Screening.**\n"
   ],
   "metadata": {
    "collapsed": false
   }
  },
  {
   "cell_type": "markdown",
   "source": [
    "Import libraries."
   ],
   "metadata": {
    "collapsed": false
   }
  },
  {
   "cell_type": "code",
   "execution_count": 1,
   "outputs": [],
   "source": [
    "import os\n",
    "import shutil\n",
    "\n",
    "from matplotlib import pyplot as plt\n",
    "\n",
    "import paramaterial as pam"
   ],
   "metadata": {
    "collapsed": false
   }
  },
  {
   "cell_type": "markdown",
   "source": [
    "### Make the info table"
   ],
   "metadata": {
    "collapsed": false
   }
  },
  {
   "cell_type": "code",
   "execution_count": 3,
   "outputs": [
    {
     "ename": "FileNotFoundError",
     "evalue": "[WinError 3] The system cannot find the path specified: 'data/00 backup data'",
     "output_type": "error",
     "traceback": [
      "\u001B[1;31m---------------------------------------------------------------------------\u001B[0m",
      "\u001B[1;31mFileNotFoundError\u001B[0m                         Traceback (most recent call last)",
      "Input \u001B[1;32mIn [3]\u001B[0m, in \u001B[0;36m<cell line: 1>\u001B[1;34m()\u001B[0m\n\u001B[1;32m----> 1\u001B[0m backup_info \u001B[38;5;241m=\u001B[39m \u001B[43mpam\u001B[49m\u001B[38;5;241;43m.\u001B[39;49m\u001B[43mpreparing\u001B[49m\u001B[38;5;241;43m.\u001B[39;49m\u001B[43mmake_info_table\u001B[49m\u001B[43m(\u001B[49m\u001B[38;5;124;43m'\u001B[39;49m\u001B[38;5;124;43mdata/00 backup data\u001B[39;49m\u001B[38;5;124;43m'\u001B[39;49m\u001B[43m,\u001B[49m\n\u001B[0;32m      2\u001B[0m \u001B[43m                                            \u001B[49m\u001B[43m[\u001B[49m\u001B[38;5;124;43m'\u001B[39;49m\u001B[38;5;124;43mtest id\u001B[39;49m\u001B[38;5;124;43m'\u001B[39;49m\u001B[43m,\u001B[49m\u001B[43m \u001B[49m\u001B[38;5;124;43m'\u001B[39;49m\u001B[38;5;124;43mold filename\u001B[39;49m\u001B[38;5;124;43m'\u001B[39;49m\u001B[43m,\u001B[49m\u001B[43m \u001B[49m\u001B[38;5;124;43m'\u001B[39;49m\u001B[38;5;124;43mtest type\u001B[39;49m\u001B[38;5;124;43m'\u001B[39;49m\u001B[43m,\u001B[49m\u001B[43m \u001B[49m\u001B[38;5;124;43m'\u001B[39;49m\u001B[38;5;124;43mmaterial\u001B[39;49m\u001B[38;5;124;43m'\u001B[39;49m\u001B[43m,\u001B[49m\u001B[43m \u001B[49m\u001B[38;5;124;43m'\u001B[39;49m\u001B[38;5;124;43mtemperature\u001B[39;49m\u001B[38;5;124;43m'\u001B[39;49m\u001B[43m,\u001B[49m\u001B[43m \u001B[49m\u001B[38;5;124;43m'\u001B[39;49m\u001B[38;5;124;43mrate\u001B[39;49m\u001B[38;5;124;43m'\u001B[39;49m\u001B[43m]\u001B[49m\u001B[43m)\u001B[49m\n\u001B[0;32m      3\u001B[0m backup_info\u001B[38;5;241m.\u001B[39mhead()\n",
      "File \u001B[1;32m~\\paramaterial\\paramaterial\\preparing.py:14\u001B[0m, in \u001B[0;36mmake_info_table\u001B[1;34m(data_dir, columns)\u001B[0m\n\u001B[0;32m     12\u001B[0m columns \u001B[38;5;241m=\u001B[39m [\u001B[38;5;124m'\u001B[39m\u001B[38;5;124mtest id\u001B[39m\u001B[38;5;124m'\u001B[39m, \u001B[38;5;124m'\u001B[39m\u001B[38;5;124mold filename\u001B[39m\u001B[38;5;124m'\u001B[39m] \u001B[38;5;241m+\u001B[39m columns\n\u001B[0;32m     13\u001B[0m info_df \u001B[38;5;241m=\u001B[39m pd\u001B[38;5;241m.\u001B[39mDataFrame(columns\u001B[38;5;241m=\u001B[39mcolumns)\n\u001B[1;32m---> 14\u001B[0m \u001B[38;5;28;01mfor\u001B[39;00m filename \u001B[38;5;129;01min\u001B[39;00m \u001B[43mos\u001B[49m\u001B[38;5;241;43m.\u001B[39;49m\u001B[43mlistdir\u001B[49m\u001B[43m(\u001B[49m\u001B[43mdata_dir\u001B[49m\u001B[43m)\u001B[49m:\n\u001B[0;32m     15\u001B[0m     \u001B[38;5;28;01mif\u001B[39;00m filename\u001B[38;5;241m.\u001B[39mendswith(\u001B[38;5;124m'\u001B[39m\u001B[38;5;124m.csv\u001B[39m\u001B[38;5;124m'\u001B[39m):\n\u001B[0;32m     16\u001B[0m         info_row \u001B[38;5;241m=\u001B[39m pd\u001B[38;5;241m.\u001B[39mSeries(dtype\u001B[38;5;241m=\u001B[39m\u001B[38;5;28mstr\u001B[39m)\n",
      "\u001B[1;31mFileNotFoundError\u001B[0m: [WinError 3] The system cannot find the path specified: 'data/00 backup data'"
     ]
    }
   ],
   "source": [
    "backup_info = pam.preparing.make_info_table('data/00 backup data',\n",
    "                                            ['test id', 'old filename', 'test type', 'material', 'temperature', 'rate'])\n",
    "backup_info.head()"
   ],
   "metadata": {
    "collapsed": false
   }
  },
  {
   "cell_type": "markdown",
   "source": [
    "Add the metadata and apply a naming convention in the \"test id\" column."
   ],
   "metadata": {
    "collapsed": false
   }
  },
  {
   "cell_type": "code",
   "execution_count": null,
   "outputs": [],
   "source": [
    "for i, filename in enumerate(os.listdir('data/00 backup data')):\n",
    "    test_id = f'testID_{i + 1:03d}'\n",
    "    test_type, temperature, material = filename.split('_')[0:3]\n",
    "    rate = 8.66e-4\n",
    "    backup_info.loc[\n",
    "        backup_info['old filename'] == filename,\n",
    "        ['test id', 'test type', 'material', 'temperature', 'rate']\n",
    "    ] = [test_id, test_type, material, temperature, rate]\n",
    "\n",
    "backup_info.to_excel('info/00 backup info.xlsx', index=False)\n",
    "backup_info.head()"
   ],
   "metadata": {
    "collapsed": false
   }
  },
  {
   "cell_type": "markdown",
   "source": [
    "Copy backup data and info into raw data and info, then leave backup alone in all further steps."
   ],
   "metadata": {
    "collapsed": false
   }
  },
  {
   "cell_type": "code",
   "execution_count": null,
   "outputs": [],
   "source": [
    "old_dir, new_dir = 'data/00 backup data', 'data/01 raw data'\n",
    "if os.path.isdir(new_dir):  # delete new_dir and files if they already exist\n",
    "    shutil.rmtree(new_dir)\n",
    "shutil.copytree(old_dir, new_dir)\n",
    "\n",
    "shutil.copy('info/00 backup info.xlsx', 'info/01 raw info.xlsx')"
   ],
   "metadata": {
    "collapsed": false
   }
  },
  {
   "cell_type": "markdown",
   "source": [
    "### Preparing raw data\n",
    "Rename files according to test id."
   ],
   "metadata": {
    "collapsed": false
   }
  },
  {
   "cell_type": "code",
   "execution_count": null,
   "outputs": [],
   "source": [
    "pam.preparing.rename_by_test_id('data/01 raw data', 'info/01 raw info.xlsx')"
   ],
   "metadata": {
    "collapsed": false
   }
  },
  {
   "cell_type": "markdown",
   "source": [
    "Check that column headers of data files are all the same."
   ],
   "metadata": {
    "collapsed": false
   }
  },
  {
   "cell_type": "code",
   "execution_count": null,
   "outputs": [],
   "source": [
    "pam.preparing.check_column_headers('data/01 raw data')"
   ],
   "metadata": {
    "collapsed": false
   }
  },
  {
   "cell_type": "markdown",
   "source": [
    "### Exploratory data analysis\n",
    "\n",
    "Now that we have prepared the data, we can use the DataSet class to create a plot of all the raw data."
   ],
   "metadata": {
    "collapsed": false
   }
  },
  {
   "cell_type": "code",
   "execution_count": null,
   "outputs": [],
   "source": [
    "from paramaterial.plug import DataSet\n",
    "\n",
    "fig, ax = plt.subplots(1, 1, figsize=(9, 6))\n",
    "raw_dataset = DataSet('data/01 raw data', 'info/01 raw info.xlsx')\n",
    "raw_dataset.plot(ax=ax, colorby='temperature', x='Strain', y='Stress_MPa', xlabel='Strain', ylabel='Stress (MPa)', legend=False)"
   ],
   "metadata": {
    "collapsed": false
   }
  },
  {
   "cell_type": "markdown",
   "source": [
    "We can also plot subsets of the dataset with different styles. Here, we style according to test type."
   ],
   "metadata": {
    "collapsed": false
   }
  },
  {
   "cell_type": "code",
   "execution_count": null,
   "outputs": [],
   "source": [
    "raw_dataset.plot(colorby='temperature', styleby='test type', x='Strain', y='Stress_MPa', ylabel='Stress (MPa)', legend=False, cbar=True, widthby='material', alpha=0.8, grid=True)"
   ],
   "metadata": {
    "collapsed": false
   }
  },
  {
   "cell_type": "markdown",
   "source": [
    "Alternatively, we might want to split the data into subplots."
   ],
   "metadata": {
    "collapsed": false
   }
  },
  {
   "cell_type": "code",
   "execution_count": null,
   "outputs": [],
   "source": [
    "raw_dataset.subplots(2,2,colsby='material',col_keys=['A,B,'])"
   ],
   "metadata": {
    "collapsed": false
   }
  }
 ],
 "metadata": {
  "kernelspec": {
   "display_name": "Python 3",
   "language": "python",
   "name": "python3"
  },
  "language_info": {
   "codemirror_mode": {
    "name": "ipython",
    "version": 2
   },
   "file_extension": ".py",
   "mimetype": "text/x-python",
   "name": "python",
   "nbconvert_exporter": "python",
   "pygments_lexer": "ipython2",
   "version": "2.7.6"
  }
 },
 "nbformat": 4,
 "nbformat_minor": 0
}
