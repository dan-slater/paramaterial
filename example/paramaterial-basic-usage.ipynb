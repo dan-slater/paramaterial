{
 "cells": [
  {
   "cell_type": "markdown",
   "source": [
    "# Basic usage example\n",
    "\n",
    "This is an example of how to use Paramaterial to process a dataset of uniaxial tensile test measurements.\n",
    "The example follows a four-phase strategy, consisting of: data preparation, data processing, data aggregation and quality control.\n"
   ],
   "metadata": {
    "collapsed": false
   }
  },
  {
   "cell_type": "markdown",
   "source": [
    "## Data Preparation\n",
    "\n",
    "The example dataset of tensile test measurements was published on Mendeley Data and is available at [DOI: 10.17632/rd6jm9tyb6.2](https://data.mendeley.com/datasets/rd6jm9tyb6/2). To get started with the example, download the data, unpack it, and save the CSV files in a directory `data/00 backup data`. Make a spreadsheet of metadata, save the spreadsheet at `info/00 backup info.xlsx`."
   ],
   "metadata": {
    "collapsed": false,
    "pycharm": {
     "name": "#%% md\n"
    }
   }
  },
  {
   "cell_type": "code",
   "execution_count": 22,
   "outputs": [
    {
     "data": {
      "text/plain": "       test_id              old filename test type material  temperature  \\\n0  test_ID_001  P_020_F_1_017_198_18.csv         P        F           20   \n1  test_ID_002  P_020_F_2_018_202_19.csv         P        F           20   \n2  test_ID_003  P_020_F_3_019_208_25.csv         P        F           20   \n3  test_ID_004  P_020_G_1_021_197_16.csv         P        G           20   \n4  test_ID_005  P_020_G_2_022_195_24.csv         P        G           20   \n\n       rate  \n0  0.000866  \n1  0.000866  \n2  0.000866  \n3  0.000866  \n4  0.000866  ",
      "text/html": "<div>\n<style scoped>\n    .dataframe tbody tr th:only-of-type {\n        vertical-align: middle;\n    }\n\n    .dataframe tbody tr th {\n        vertical-align: top;\n    }\n\n    .dataframe thead th {\n        text-align: right;\n    }\n</style>\n<table border=\"1\" class=\"dataframe\">\n  <thead>\n    <tr style=\"text-align: right;\">\n      <th></th>\n      <th>test_id</th>\n      <th>old filename</th>\n      <th>test type</th>\n      <th>material</th>\n      <th>temperature</th>\n      <th>rate</th>\n    </tr>\n  </thead>\n  <tbody>\n    <tr>\n      <th>0</th>\n      <td>test_ID_001</td>\n      <td>P_020_F_1_017_198_18.csv</td>\n      <td>P</td>\n      <td>F</td>\n      <td>20</td>\n      <td>0.000866</td>\n    </tr>\n    <tr>\n      <th>1</th>\n      <td>test_ID_002</td>\n      <td>P_020_F_2_018_202_19.csv</td>\n      <td>P</td>\n      <td>F</td>\n      <td>20</td>\n      <td>0.000866</td>\n    </tr>\n    <tr>\n      <th>2</th>\n      <td>test_ID_003</td>\n      <td>P_020_F_3_019_208_25.csv</td>\n      <td>P</td>\n      <td>F</td>\n      <td>20</td>\n      <td>0.000866</td>\n    </tr>\n    <tr>\n      <th>3</th>\n      <td>test_ID_004</td>\n      <td>P_020_G_1_021_197_16.csv</td>\n      <td>P</td>\n      <td>G</td>\n      <td>20</td>\n      <td>0.000866</td>\n    </tr>\n    <tr>\n      <th>4</th>\n      <td>test_ID_005</td>\n      <td>P_020_G_2_022_195_24.csv</td>\n      <td>P</td>\n      <td>G</td>\n      <td>20</td>\n      <td>0.000866</td>\n    </tr>\n  </tbody>\n</table>\n</div>"
     },
     "execution_count": 22,
     "metadata": {},
     "output_type": "execute_result"
    }
   ],
   "source": [
    "import pandas as pd\n",
    "import numpy as np\n",
    "import matplotlib.pyplot as plt\n",
    "\n",
    "# Read the Excel file into a pandas DataFrame\n",
    "metadata = pd.read_excel('info/00 backup info.xlsx')\n",
    "metadata.head(5)"
   ],
   "metadata": {
    "collapsed": false,
    "pycharm": {
     "name": "#%%\n"
    }
   }
  },
  {
   "cell_type": "markdown",
   "source": [
    "Make sure to rename the datafiles according to the naming convention used in the `test_id` column of the metadata spreadsheet.\n"
   ],
   "metadata": {
    "collapsed": false
   }
  },
  {
   "cell_type": "code",
   "execution_count": 23,
   "outputs": [],
   "source": [
    "import shutil\n",
    "import os\n",
    "\n",
    "# Iterate through the rows of the metadata table\n",
    "for index, row in metadata.iterrows():\n",
    "    # Construct the old and new file names\n",
    "    old_filename = \"data/00 backup data/\" + row['old filename']\n",
    "    new_filename = \"data/01 prepared data/\" + row['test_id'] + \".csv\"\n",
    "    # Copy the file\n",
    "    if not os.path.exists(\"data/01 prepared data/\"):\n",
    "        os.mkdir(\"data/01 prepared data/\")\n",
    "    shutil.copy(old_filename, new_filename)\n",
    "\n",
    "# Copy the metadata to a new spreadsheet and drop the old filename column\n",
    "pd.read_excel('info/00 backup info.xlsx').drop(columns=['old filename']).to_excel('info/01 prepared info.xlsx', index=False)"
   ],
   "metadata": {
    "collapsed": false,
    "pycharm": {
     "name": "#%%\n"
    }
   }
  },
  {
   "cell_type": "markdown",
   "source": [
    "We are now done with setting up the data for the example, and can use the automated processing and analysis functionality provided by Paramaterial."
   ],
   "metadata": {
    "collapsed": false,
    "pycharm": {
     "name": "#%% md\n"
    }
   }
  },
  {
   "cell_type": "code",
   "execution_count": 24,
   "outputs": [],
   "source": [
    "# Import Paramaterial\n",
    "import paramaterial as pam"
   ],
   "metadata": {
    "collapsed": false,
    "pycharm": {
     "name": "#%%\n"
    }
   }
  },
  {
   "cell_type": "markdown",
   "source": [
    "Load the data and metadata."
   ],
   "metadata": {
    "collapsed": false,
    "pycharm": {
     "name": "#%% md\n"
    }
   }
  },
  {
   "cell_type": "code",
   "execution_count": 25,
   "outputs": [
    {
     "data": {
      "text/plain": "       test_id test type material  temperature      rate\n0  test_ID_001         P        F           20  0.000866\n1  test_ID_002         P        F           20  0.000866\n2  test_ID_003         P        F           20  0.000866\n3  test_ID_004         P        G           20  0.000866\n4  test_ID_005         P        G           20  0.000866",
      "text/html": "<div>\n<style scoped>\n    .dataframe tbody tr th:only-of-type {\n        vertical-align: middle;\n    }\n\n    .dataframe tbody tr th {\n        vertical-align: top;\n    }\n\n    .dataframe thead th {\n        text-align: right;\n    }\n</style>\n<table border=\"1\" class=\"dataframe\">\n  <thead>\n    <tr style=\"text-align: right;\">\n      <th></th>\n      <th>test_id</th>\n      <th>test type</th>\n      <th>material</th>\n      <th>temperature</th>\n      <th>rate</th>\n    </tr>\n  </thead>\n  <tbody>\n    <tr>\n      <th>0</th>\n      <td>test_ID_001</td>\n      <td>P</td>\n      <td>F</td>\n      <td>20</td>\n      <td>0.000866</td>\n    </tr>\n    <tr>\n      <th>1</th>\n      <td>test_ID_002</td>\n      <td>P</td>\n      <td>F</td>\n      <td>20</td>\n      <td>0.000866</td>\n    </tr>\n    <tr>\n      <th>2</th>\n      <td>test_ID_003</td>\n      <td>P</td>\n      <td>F</td>\n      <td>20</td>\n      <td>0.000866</td>\n    </tr>\n    <tr>\n      <th>3</th>\n      <td>test_ID_004</td>\n      <td>P</td>\n      <td>G</td>\n      <td>20</td>\n      <td>0.000866</td>\n    </tr>\n    <tr>\n      <th>4</th>\n      <td>test_ID_005</td>\n      <td>P</td>\n      <td>G</td>\n      <td>20</td>\n      <td>0.000866</td>\n    </tr>\n  </tbody>\n</table>\n</div>"
     },
     "execution_count": 25,
     "metadata": {},
     "output_type": "execute_result"
    }
   ],
   "source": [
    "# Load the metadata spreadsheet and data files into a DataSet object\n",
    "prepared_ds = pam.DataSet('info/01 prepared info.xlsx', 'data/01 prepared data')\n",
    "\n",
    "# Get the metadata as a table\n",
    "prepared_ds.info_table.head(5)"
   ],
   "metadata": {
    "collapsed": false,
    "pycharm": {
     "name": "#%%\n"
    }
   }
  },
  {
   "cell_type": "markdown",
   "source": [
    "For this example, we want to use only the tensile tests."
   ],
   "metadata": {
    "collapsed": false,
    "pycharm": {
     "name": "#%% md\n"
    }
   }
  },
  {
   "cell_type": "code",
   "execution_count": null,
   "outputs": [],
   "source": [
    "# Filter to get only the tensile tests\n",
    "prepared_ds = prepared_ds.subset({'test_type': ['T']})\n",
    "\n",
    "# Sort the dataset\n",
    "prepared_ds = prepared_ds.sort_by(['temperature', 'lot'])"
   ],
   "metadata": {
    "collapsed": false,
    "pycharm": {
     "name": "#%%\n"
    }
   }
  },
  {
   "cell_type": "markdown",
   "source": [
    "### Make the experimental matrix\n",
    "We want to identify useful groupings and make visualisations."
   ],
   "metadata": {
    "collapsed": false
   }
  },
  {
   "cell_type": "code",
   "execution_count": null,
   "outputs": [],
   "source": [
    "# make a heatmap showing the distribution across lot and temperature\n",
    "pam.experimental_matrix(prepared_ds, index='temperature', columns='lot', as_heatmap=True)"
   ],
   "metadata": {
    "collapsed": false,
    "pycharm": {
     "name": "#%%\n"
    }
   }
  },
  {
   "cell_type": "code",
   "execution_count": null,
   "outputs": [],
   "source": [
    "import matplotlib as mpl\n",
    "\n",
    "cmap_green = mpl.colors.LinearSegmentedColormap.from_list(\"\", [\"white\", (0.2124, 0.3495, 0.1692)])\n",
    "\n",
    "fig, ax = plt.subplots(1, 1, figsize=(4.2, 3.4))\n",
    "\n",
    "pam.make_experimental_matrix(info_table=prepared_ds.info_table,\n",
    "                             index='temperature', columns='lot',\n",
    "                             as_heatmap=True, **dict(linewidths=2, cbar=False, annot=True, cmap=cmap_green, vmax=7,\n",
    "                                                     annot_kws={'size': 10}, square=True))\n",
    "\n",
    "ax.set_xlabel('Lot')\n",
    "ax.set_ylabel('Temperature ($^{\\circ}$C)')\n",
    "ax.tick_params(rotation=0)\n",
    "\n",
    "save('bu-exp-matrix')"
   ],
   "metadata": {
    "collapsed": false,
    "pycharm": {
     "name": "#%%\n"
    }
   }
  },
  {
   "cell_type": "markdown",
   "source": [
    "### Visualise the prepared data.\n",
    "\n",
    "We could colour by lot or by temperature. Colouring by lot is useful to observe variation, colouring by temperature is useful to observe temperature variation."
   ],
   "metadata": {
    "collapsed": false
   }
  },
  {
   "cell_type": "code",
   "execution_count": null,
   "outputs": [],
   "source": [
    "styler = pam.plotting.Styler(\n",
    "    color_by='temperature', color_by_label='(°C)', cmap='plasma', color_norm=plt.Normalize(20, 310)\n",
    ").style_to(prepared_ds)\n",
    "\n",
    "stress_strain_labels = dict(x='Strain', y='Stress_MPa', ylabel='Stress (MPa)')\n",
    "\n",
    "\n",
    "def ds_plot(ds, title=\"\", **kwargs):\n",
    "    return pam.dataset_plot(ds=ds, styler=styler, **stress_strain_labels, title=title, **kwargs)\n",
    "\n",
    "\n",
    "def ds_subplots(ds, **kwargs):\n",
    "    axs = pam.dataset_subplots(\n",
    "        ds=ds, shape=(6, 5), styler=styler, figsize=(10, 12), hspace=0.1, wspace=0.1,\n",
    "        rows_by='temperature', row_vals=[[20], [100], [150], [200], [250], [300]],\n",
    "        cols_by='lot', col_vals=[['A'], ['B'], ['C'], ['D'], ['E']],\n",
    "        col_titles=[f'Lot {lot}' for lot in 'ABCDE'], subplots_adjust=0.02,\n",
    "        **stress_strain_labels, **kwargs\n",
    "    )\n",
    "    for ax in axs.flat:\n",
    "        ax.set_ylabel('Stress (MPa)')\n",
    "    return axs"
   ],
   "metadata": {
    "collapsed": false,
    "pycharm": {
     "name": "#%%\n"
    }
   }
  },
  {
   "cell_type": "code",
   "execution_count": null,
   "outputs": [],
   "source": [
    "ax = ds_plot(prepared_ds, xlim=(None, 0.35), title='Prepared Data')\n",
    "\n",
    "ax.set_xticks(np.arange(0, 0.35, 0.1))\n",
    "ax.set_xticklabels(['0', '10', '20', '30'])\n",
    "ax.set_xlabel('Strain (%)')\n",
    "\n",
    "save('bu-prepared')"
   ],
   "metadata": {
    "collapsed": false,
    "pycharm": {
     "name": "#%%\n"
    }
   }
  },
  {
   "cell_type": "code",
   "execution_count": null,
   "outputs": [],
   "source": [
    "ax = ds_plot(prepared_ds, figsize=(9.2,7), xlim=(None, 0.31), title='Prepared Data')\n",
    "\n",
    "\n",
    "ax.set_xticks(np.arange(0, 0.31, 0.05))\n",
    "ax.set_xticklabels(['0', '5', '10', '15', '20', '25', '30'])\n",
    "ax.set_xlabel('Strain (%)')\n",
    "\n",
    "save('bu-single-plot')"
   ],
   "metadata": {
    "collapsed": false,
    "pycharm": {
     "name": "#%%\n"
    }
   }
  },
  {
   "cell_type": "code",
   "execution_count": null,
   "outputs": [],
   "source": [
    "axs = ds_subplots(prepared_ds)\n",
    "\n",
    "for ax in axs.flat:\n",
    "    ax.set_xticks([0, 0.1, 0.2])\n",
    "    ax.set_xticklabels(['0', '10', '20'])\n",
    "    ax.set_xlabel('Strain (%)')\n",
    "\n",
    "save('bu-prepared-subplots')"
   ],
   "metadata": {
    "collapsed": false,
    "pycharm": {
     "name": "#%%\n"
    }
   }
  },
  {
   "cell_type": "markdown",
   "source": [
    "## Data Processing"
   ],
   "metadata": {
    "collapsed": false
   }
  },
  {
   "cell_type": "markdown",
   "source": [
    "### Find UTS and fracture point"
   ],
   "metadata": {
    "collapsed": false
   }
  },
  {
   "cell_type": "code",
   "execution_count": null,
   "outputs": [],
   "source": [
    "prepared_ds = pam.find_UTS(ds=prepared_ds, strain_key='Strain', stress_key='Stress_MPa')\n",
    "prepared_ds = pam.find_fracture_point(ds=prepared_ds, strain_key='Strain', stress_key='Stress_MPa')"
   ],
   "metadata": {
    "collapsed": false,
    "pycharm": {
     "name": "#%%\n"
    }
   }
  },
  {
   "cell_type": "markdown",
   "source": [
    "### Trimming"
   ],
   "metadata": {
    "collapsed": false
   }
  },
  {
   "cell_type": "code",
   "execution_count": null,
   "outputs": [],
   "source": [
    "def trim_to_small_strain(di):\n",
    "    di.data = di.data[di.data['Strain'] < 0.01]\n",
    "    return di\n",
    "\n",
    "\n",
    "trimmed_ds = prepared_ds.apply(trim_to_small_strain)\n",
    "ax = ds_plot(trimmed_ds, 'Trimmed Data')\n",
    "\n",
    "ax.set_xticks([-0.002, 0, 0.002, 0.004, 0.006, 0.008, 0.01])\n",
    "ax.set_xticklabels([-0.2, 0, 2, 4, 6, 8, 10])\n",
    "ax.set_xlabel('Strain (%)')\n",
    "\n",
    "save('bu-trimmed')"
   ],
   "metadata": {
    "collapsed": false,
    "pycharm": {
     "name": "#%%\n"
    }
   }
  },
  {
   "cell_type": "markdown",
   "source": [
    "### Foot Correction"
   ],
   "metadata": {
    "collapsed": false
   }
  },
  {
   "cell_type": "code",
   "execution_count": null,
   "outputs": [],
   "source": [
    "corrected_ds = trimmed_ds.apply(pam.find_upl_and_lpl, preload=36, preload_key='Stress_MPa',\n",
    "                                suppress_numpy_warnings=True).apply(pam.correct_foot)\n",
    "ds_plot(corrected_ds, title='Corrected Data')\n",
    "\n",
    "save('bu-foot-corrected')"
   ],
   "metadata": {
    "collapsed": false,
    "pycharm": {
     "name": "#%%\n"
    }
   }
  },
  {
   "cell_type": "markdown",
   "source": [
    "### Foot correction screening"
   ],
   "metadata": {
    "collapsed": false
   }
  },
  {
   "cell_type": "markdown",
   "source": [
    "Make screening pdf."
   ],
   "metadata": {
    "collapsed": false
   }
  },
  {
   "cell_type": "code",
   "execution_count": null,
   "outputs": [],
   "source": [
    "def foot_correction_screening_plot(di):\n",
    "    temp = di.info['temperature']\n",
    "    color = styler.color_dict[temp]\n",
    "    UPL = (di.info['UPL_0'], di.info['UPL_1'])\n",
    "    LPL = (di.info['LPL_0'], di.info['LPL_1'])\n",
    "    _ax = ds_plot(trimmed_ds.subset({'test_id': di.test_id}), alpha=0.5)\n",
    "    ds_plot(corrected_ds.subset({'test_id': di.test_id}), ax=_ax, figsize=(10, 5.8),\n",
    "            title=f'{di.test_id}: {di.info[\"temperature\"]}°C, Lot {di.info[\"lot\"]}, {di.info[\"number\"]}')\n",
    "    _ax.axline(UPL, slope=di.info['E'], c=color, ls='--', alpha=0.5, zorder=500 + temp)\n",
    "    _ax.plot(*UPL, c='k', mfc=color, marker=4, alpha=0.8, markersize=6, zorder=1000 + temp)\n",
    "    _ax.plot(*LPL, c='k', mfc=color, marker=5, alpha=0.8, markersize=6, zorder=1000 + temp)\n",
    "\n",
    "# foot_correction_screening_plot(corrected_ds[3])\n",
    "# pam.make_screening_pdf(corrected_ds, foot_correction_screening_plot, 'info/foot correction screening.pdf');"
   ],
   "metadata": {
    "collapsed": false,
    "pycharm": {
     "name": "#%%\n"
    }
   }
  },
  {
   "cell_type": "code",
   "execution_count": null,
   "outputs": [],
   "source": [
    "def foot_correction_screening_plot(di):\n",
    "    color = styler.color_dict[di.info['temperature']]\n",
    "    UPL = (di.info['UPL_0'], di.info['UPL_1'])\n",
    "    LPL = (di.info['LPL_0'], di.info['LPL_1'])\n",
    "    ax = ds_plot(trimmed_ds.subset({'test_id': di.test_id}), alpha=0.5)\n",
    "    ds_plot(corrected_ds.subset({'test_id': di.test_id}), ax=ax,\n",
    "            title=f'{di.test_id}: {di.info[\"temperature\"]}°C, Lot {di.info[\"lot\"]}, {di.info[\"number\"]}')\n",
    "    ax.axline(UPL, slope=di.info['E'], c=color, ls='--', alpha=0.5)\n",
    "    ax.plot(*UPL, c=color, marker=4)\n",
    "    ax.plot(*LPL, c=color, marker=5)\n",
    "\n",
    "\n",
    "foot_correction_screening_plot(corrected_ds[3])\n",
    "# pam.make_screening_pdf(corrected_ds, foot_correction_screening_plot, 'info/foot correction screening.pdf');"
   ],
   "metadata": {
    "collapsed": false,
    "pycharm": {
     "name": "#%%\n"
    }
   }
  },
  {
   "cell_type": "markdown",
   "source": [
    "Reject flagged tests."
   ],
   "metadata": {
    "collapsed": false
   }
  },
  {
   "cell_type": "code",
   "execution_count": null,
   "outputs": [],
   "source": [
    "rejected_ds = pam.read_screening_pdf_fields(corrected_ds, 'info/foot correction screening marked.pdf')\n",
    "rejected_items = rejected_ds.info_table[rejected_ds.info_table['reject'] == '/Yes']\n",
    "rejected_items[['test_id', 'temperature', 'lot', 'number', 'reject', 'comment']].to_latex(\n",
    "    buf='info/02 rejected items.tex', index=False)"
   ],
   "metadata": {
    "collapsed": false,
    "pycharm": {
     "name": "#%%\n"
    }
   }
  },
  {
   "cell_type": "code",
   "execution_count": null,
   "outputs": [],
   "source": [
    "screened_ds = pam.remove_rejected_items(corrected_ds, 'info/foot correction screening marked.pdf')\n",
    "ds_plot(screened_ds, title='Screened Data')\n",
    "\n",
    "save('bu-foot-corrected-screened')"
   ],
   "metadata": {
    "collapsed": false,
    "pycharm": {
     "name": "#%%\n"
    }
   }
  },
  {
   "cell_type": "markdown",
   "source": [
    "### Calculate proof stress"
   ],
   "metadata": {
    "collapsed": false
   }
  },
  {
   "cell_type": "code",
   "execution_count": null,
   "outputs": [],
   "source": [
    "proof_ds = pam.find_proof_stress(ds=screened_ds, proof_strain=0.002, E_key='E',\n",
    "                                 strain_key='Strain', stress_key='Stress_MPa')"
   ],
   "metadata": {
    "collapsed": false,
    "pycharm": {
     "name": "#%%\n"
    }
   }
  },
  {
   "cell_type": "markdown",
   "source": [
    "### Write processed data"
   ],
   "metadata": {
    "collapsed": false
   }
  },
  {
   "cell_type": "code",
   "execution_count": null,
   "outputs": [],
   "source": [
    "proof_ds.write_output('info/02 processed info.xlsx', 'data/02 processed data')\n",
    "processed_ds = pam.DataSet('info/02 processed info.xlsx', 'data/02 processed data')"
   ],
   "metadata": {
    "collapsed": false,
    "pycharm": {
     "name": "#%%\n"
    }
   }
  },
  {
   "cell_type": "code",
   "execution_count": null,
   "outputs": [],
   "source": [
    "axs = ds_subplots(processed_ds)\n",
    "\n",
    "for ax in axs.flat:\n",
    "    ax.set_xticks([0, 0.005, 0.01])\n",
    "    ax.set_xticklabels(['0', '0.5', '1'])\n",
    "    ax.set_xlabel('Strain (%)')\n",
    "\n",
    "save('bu-processed-subplots')"
   ],
   "metadata": {
    "collapsed": false,
    "pycharm": {
     "name": "#%%\n"
    }
   }
  },
  {
   "cell_type": "markdown",
   "source": [
    "## Data Aggregation"
   ],
   "metadata": {
    "collapsed": false
   }
  },
  {
   "cell_type": "markdown",
   "source": [
    "### Representative curves"
   ],
   "metadata": {
    "collapsed": false
   }
  },
  {
   "cell_type": "code",
   "execution_count": null,
   "outputs": [],
   "source": [
    "# pam.make_representative_data(\n",
    "#     processed_ds, 'info/03 temp repres info.xlsx', 'data/03 temp repres data',\n",
    "#     repres_col='Stress_MPa', group_by_keys=['temperature', 'test_type'], interp_by='Strain',\n",
    "#     group_info_cols=['UTS_0', 'UTS_1', 'FP_0', 'E', 'PS_0.002_0', 'PS_0.002_1', 'UPL_1'], interp_range='inner')"
   ],
   "metadata": {
    "collapsed": false,
    "pycharm": {
     "name": "#%%\n"
    }
   }
  },
  {
   "cell_type": "code",
   "execution_count": null,
   "outputs": [],
   "source": [
    "\n",
    "temp_repres_ds = pam.DataSet('info/03 temp repres info.xlsx', 'data/03 temp repres data', test_id_key='repres_id')\n",
    "ax = ds_plot(temp_repres_ds, fill_between=('down_std_Stress_MPa', 'up_std_Stress_MPa'), title='Representative Curves')\n",
    "ax.set_xticks([0.002, 0.004, 0.006, 0.008, 0.010])\n",
    "ax.set_xticklabels(['0.2', '0.4', '0.6', '0.8', '1.0'])\n",
    "ax.set_xlabel('Strain (%)')\n",
    "\n",
    "save('bu-temp-repres')"
   ],
   "metadata": {
    "collapsed": false,
    "pycharm": {
     "name": "#%%\n"
    }
   }
  },
  {
   "cell_type": "code",
   "execution_count": null,
   "outputs": [],
   "source": [
    "temp_repres_ds.info_table.to_latex(buf='info/repres_table.tex', index=False, formatters='?')"
   ],
   "metadata": {
    "collapsed": false,
    "pycharm": {
     "name": "#%%\n"
    }
   }
  },
  {
   "cell_type": "code",
   "execution_count": null,
   "outputs": [],
   "source": [
    "# pam.make_representative_data(processed_ds, 'info/04 lot temp repres info.xlsx', 'data/04 lot temp data',\n",
    "#                              repres_col='Stress_MPa', group_by_keys=['lot', 'temperature', 'test_type'],\n",
    "#                              interp_by='Strain', interp_range='inner',\n",
    "#                              group_info_cols=['UTS_0', 'UTS_1', 'FP_0', 'E', 'PS_0.002_0', 'PS_0.002_1'])"
   ],
   "metadata": {
    "collapsed": false,
    "pycharm": {
     "name": "#%%\n"
    }
   }
  },
  {
   "cell_type": "code",
   "execution_count": null,
   "outputs": [],
   "source": [
    "lot_repres_ds = pam.DataSet('info/04 lot temp repres info.xlsx', 'data/04 lot temp data', test_id_key='repres_id')"
   ],
   "metadata": {
    "collapsed": false,
    "pycharm": {
     "name": "#%%\n"
    }
   }
  },
  {
   "cell_type": "code",
   "execution_count": null,
   "outputs": [],
   "source": [
    "axs = ds_subplots(processed_ds)\n",
    "for i, temp in enumerate(processed_ds.info_table['temperature'].unique()):\n",
    "    for j in range(axs.shape[1]):\n",
    "        ax = axs[i, j]\n",
    "        ax.set_xticks([0, 0.005, 0.01])\n",
    "        ax.set_xticklabels(['0', '0.5', '1'])\n",
    "        ds_plot(ds=temp_repres_ds.subset({'temperature': temp}), ax=axs[i, j], alpha=0.3, plot_legend=False,\n",
    "            fill_between=('up_std_Stress_MPa', 'down_std_Stress_MPa'))\n",
    "        ax.set_xlabel('Strain (%)')\n",
    "\n",
    "save('bu-temp-repres-subplots')"
   ],
   "metadata": {
    "collapsed": false,
    "pycharm": {
     "name": "#%%\n"
    }
   }
  },
  {
   "cell_type": "code",
   "execution_count": null,
   "outputs": [],
   "source": [
    "ds_subplots(lot_repres_ds, fill_between=('down_std_Stress_MPa', 'up_std_Stress_MPa'));\n",
    "\n",
    "save('bu-lot-repres-subplots')"
   ],
   "metadata": {
    "collapsed": false,
    "pycharm": {
     "name": "#%%\n"
    }
   }
  },
  {
   "cell_type": "markdown",
   "source": [
    "## Fitting Models"
   ],
   "metadata": {
    "collapsed": false
   }
  },
  {
   "cell_type": "code",
   "execution_count": null,
   "outputs": [],
   "source": [
    "ramberg_ms = pam.ModelSet(\n",
    "    model_func=pam.models.ramberg,\n",
    "    var_names=['E', 'UPL_1'],\n",
    "    param_names=['H', 'n'],\n",
    "    bounds=[(0., 1000.), (0.01, 0.8)]\n",
    ")\n",
    "\n",
    "ramberg_ms.fit_to(temp_repres_ds, x_key='Strain', y_key='Stress_MPa')\n",
    "ramberg_ds = ramberg_ms.predict()"
   ],
   "metadata": {
    "collapsed": false,
    "pycharm": {
     "name": "#%%\n"
    }
   }
  },
  {
   "cell_type": "code",
   "execution_count": null,
   "outputs": [],
   "source": [
    "ramberg_ds.info_table"
   ],
   "metadata": {
    "collapsed": false,
    "pycharm": {
     "name": "#%%\n"
    }
   }
  },
  {
   "cell_type": "code",
   "execution_count": null,
   "outputs": [],
   "source": [
    "ax = ds_plot(temp_repres_ds, alpha=0.5)\n",
    "ds_plot(ramberg_ds, ls='--', ax=ax, title='Fitted Curves')\n",
    "ax.set_xticks([0.002, 0.004, 0.006, 0.008, 0.010])\n",
    "ax.set_xticklabels(['0.2', '0.4', '0.6', '0.8', '1.0'])\n",
    "ax.set_xlabel('Strain (%)')\n",
    "\n",
    "save('bu-fitted-curves')"
   ],
   "metadata": {
    "collapsed": false,
    "pycharm": {
     "name": "#%%\n"
    }
   }
  },
  {
   "cell_type": "markdown",
   "source": [
    "## Analysis and Comparison"
   ],
   "metadata": {
    "collapsed": false
   }
  },
  {
   "cell_type": "code",
   "execution_count": null,
   "outputs": [],
   "source": [],
   "metadata": {
    "collapsed": false,
    "pycharm": {
     "name": "#%%\n"
    }
   }
  },
  {
   "cell_type": "markdown",
   "source": [
    "## Quality Control"
   ],
   "metadata": {
    "collapsed": false
   }
  },
  {
   "cell_type": "code",
   "execution_count": null,
   "outputs": [],
   "source": [],
   "metadata": {
    "collapsed": false,
    "pycharm": {
     "name": "#%%\n"
    }
   }
  }
 ],
 "metadata": {
  "kernelspec": {
   "display_name": "Python 3",
   "language": "python",
   "name": "python3"
  },
  "language_info": {
   "codemirror_mode": {
    "name": "ipython",
    "version": 2
   },
   "file_extension": ".py",
   "mimetype": "text/x-python",
   "name": "python",
   "nbconvert_exporter": "python",
   "pygments_lexer": "ipython2",
   "version": "2.7.6"
  }
 },
 "nbformat": 4,
 "nbformat_minor": 0
}