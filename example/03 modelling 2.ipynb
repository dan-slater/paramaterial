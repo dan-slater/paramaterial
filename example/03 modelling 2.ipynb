{
 "cells": [
  {
   "cell_type": "markdown",
   "source": [
    "## Fit ramberg osgood"
   ],
   "metadata": {
    "collapsed": false
   }
  },
  {
   "cell_type": "code",
   "execution_count": null,
   "outputs": [],
   "source": [
    "import numpy as np\n",
    "import paramaterial as pam\n",
    "from paramaterial import DataSet, DataItem\n",
    "import pandas as pd\n",
    "import scipy as sp\n"
   ],
   "metadata": {
    "collapsed": false,
    "pycharm": {
     "name": "#%%\n"
    }
   }
  },
  {
   "cell_type": "code",
   "execution_count": null,
   "outputs": [],
   "source": [
    "class DEModel:\n",
    "    def __init__(self, UPL, LPL, YP, bounds):\n",
    "        # self.E = E\n",
    "        self.UPL = UPL\n",
    "        self.LPL = LPL\n",
    "        self.YP = YP\n",
    "        self.bounds = bounds\n",
    "        self.fitted_params = None\n",
    "        self.fitting_error = None\n",
    "        self.x_data = None\n",
    "        self.y_data = None\n",
    "\n",
    "    def model(self, y, E, K, n):\n",
    "        x = y/E + K*((y/E) ** n)\n",
    "        return x\n",
    "\n",
    "    def fit(self, x_data, y_data, **de_kwargs):\n",
    "        self.x_data = x_data\n",
    "        self.y_data = y_data\n",
    "        result = list(self.de(self.rmse, self.bounds, **de_kwargs))\n",
    "        # self.fitted_params = result[0]\n",
    "        # self.fitting_error = result[1]\n",
    "        return result\n",
    "\n",
    "    def predict(self, y):\n",
    "        return self.model(y, *self.fitted_params)\n",
    "\n",
    "    def rmse(self, w):\n",
    "        \"\"\"Root mean squared error.\"\"\"\n",
    "        x_pred = self.model(self.y_data, *w)\n",
    "        # return np.sqrt(sum((self.x_data - x_pred) ** 2)/len(self.x_data))\n",
    "        return np.sqrt(max((self.x_data - x_pred) ** 2)/len(self.x_data))\n",
    "\n",
    "    @staticmethod\n",
    "    def de(fobj, bounds, mut=0.8, crossp=0.7, popsize=20, its=5000):\n",
    "        \"\"\"Differential evolution algorithm.\"\"\"\n",
    "        dimensions = len(bounds)\n",
    "        pop = np.random.rand(popsize, dimensions)\n",
    "        min_b, max_b = np.asarray(bounds).T\n",
    "        diff = np.fabs(min_b - max_b)\n",
    "        pop_denorm = min_b + pop*diff\n",
    "        fitness = np.asarray([fobj(ind) for ind in pop_denorm])\n",
    "        best_idx = np.argmin(fitness)\n",
    "        best = pop_denorm[best_idx]\n",
    "        for i in range(its):\n",
    "            for j in range(popsize):\n",
    "                idxs = [idx for idx in range(popsize) if idx != j]\n",
    "                a, b, c = pop[np.random.choice(idxs, 3, replace=False)]\n",
    "                mutant = np.clip(a + mut*(b - c), 0, 1)\n",
    "                cross_points = np.random.rand(dimensions) < crossp\n",
    "                if not np.any(cross_points):\n",
    "                    cross_points[np.random.randint(0, dimensions)] = True\n",
    "                trial = np.where(cross_points, mutant, pop[j])\n",
    "                trial_denorm = min_b + trial*diff\n",
    "                f = fobj(trial_denorm)\n",
    "                if f < fitness[j]:\n",
    "                    fitness[j] = f\n",
    "                    pop[j] = trial\n",
    "                    if f < fitness[best_idx]:\n",
    "                        best_idx = j\n",
    "                        best = trial_denorm\n",
    "            # yield best, fitness[best_idx]\n",
    "            yield min_b + pop*diff, fitness, best_idx"
   ],
   "metadata": {
    "collapsed": false,
    "pycharm": {
     "name": "#%%\n"
    }
   }
  },
  {
   "cell_type": "code",
   "execution_count": null,
   "outputs": [],
   "source": [
    "ds = DataSet('data/')"
   ],
   "metadata": {
    "collapsed": false,
    "pycharm": {
     "name": "#%%\n"
    }
   }
  }
 ],
 "metadata": {
  "kernelspec": {
   "display_name": "Python 3",
   "language": "python",
   "name": "python3"
  },
  "language_info": {
   "codemirror_mode": {
    "name": "ipython",
    "version": 2
   },
   "file_extension": ".py",
   "mimetype": "text/x-python",
   "name": "python",
   "nbconvert_exporter": "python",
   "pygments_lexer": "ipython2",
   "version": "2.7.6"
  }
 },
 "nbformat": 4,
 "nbformat_minor": 0
}