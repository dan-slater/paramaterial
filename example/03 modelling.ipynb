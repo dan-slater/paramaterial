{
 "cells": [
  {
   "cell_type": "markdown",
   "metadata": {
    "collapsed": true
   },
   "source": [
    "# Case study of uniaxial tensile tests\n",
    "\n",
    "This is an example of how to use Paramaterial to process a dataset of uniaxial tensile test measurements.\n",
    "The data should be formatted as a set of csv files containing measurements for each test, and a single excel spreadsheet containing the metadata for the dataset.\n",
    "There should be a single row in the excel spreadsheet for each csv file.\n",
    "\n",
    "The analysis takes 4 stages:\n",
    "- Data preparation\n",
    "- Data processing\n",
    "- Model fitting\n",
    "- Test report generation"
   ],
   "outputs": []
  },
  {
   "cell_type": "markdown",
   "source": [
    "## Modelling\n",
    "We determine the material properties and fit a model to the transition region, following the process explained in the paper:"
   ],
   "metadata": {
    "collapsed": false
   }
  },
  {
   "cell_type": "markdown",
   "source": [
    "\"Starting from a preload (which was chosen to be 30 lbf to minimize errors in the strain measurements caused by factors such as initial grip alignment), the upper proportional limit (UPL) is determined by linear regression as the point that minimizes the residuals of the slope fit between that point and the preload.\n",
    "\n",
    "Then, starting from this UPL, the procedure was repeated in the opposite direction to obtain the lower proportional limit (LPL).\n",
    "\n",
    "This procedure is automated and the proportional limits are consistently identified for all stress-strain curves using this criteria.\n",
    "\n",
    "The elastic modulus is calculated as the slope of the best fit straight line between the upper and lower proportional limits.\n",
    "\n",
    "Foot correction is applied to the stress-strain curve such that the linear elastic portion of the curve begins at the origin.\n",
    "\n",
    "The 0.2% proof stress is then determined using this slope with an offset of 0.2% strain and is recorded as the yield stress and the corresponding strain is noted as the strain at yield.\n",
    "\n",
    "From the upper proportional limit to the yield point, the Ramberg-Osgood model is fit to the data, and the fit parameter n is estimated by regression.\""
   ],
   "metadata": {
    "collapsed": false
   }
  },
  {
   "cell_type": "markdown",
   "source": [
    "30 lbf of force is equivalent to 133.5 Newtons."
   ],
   "metadata": {
    "collapsed": false
   }
  },
  {
   "cell_type": "code",
   "execution_count": 1,
   "outputs": [],
   "source": [
    "import importlib\n",
    "import os\n",
    "import shutil\n",
    "\n",
    "from matplotlib import pyplot as plt\n",
    "\n",
    "import paramaterial as pam\n",
    "from paramaterial.plug import DataSet, DataItem"
   ],
   "metadata": {
    "collapsed": false
   }
  },
  {
   "cell_type": "markdown",
   "source": [
    "Setup plotting."
   ],
   "metadata": {
    "collapsed": false
   }
  },
  {
   "cell_type": "code",
   "execution_count": null,
   "outputs": [],
   "source": [
    "processed_set = DataSet('data/02 processed data', 'info/02 processed info.xlsx').sort_by(['temperature', 'lot'])\n",
    "\n",
    "styler = pam.plotting.Styler( color_by='temperature', cmap='plasma', color_by_label='(°C)', plot_kwargs={'grid': True})\n",
    "styler.style_to(processed_set)\n",
    "\n",
    "\n",
    "def ds_plot(ds: DataSet, **kwargs):\n",
    "    return pam.plotting.dataset_plot(ds, styler=styler, **kwargs)\n",
    "\n",
    "\n",
    "\n",
    "def ds_subplots(ds: DataSet, **kwargs):\n",
    "    return pam.plotting.dataset_subplots(\n",
    "        ds=ds, shape=(3, 3), sharex='all',\n",
    "        styler=styler, hspace=0.2, plot_legend=False,\n",
    "        rows_by='lot', row_vals=[[a] for a in 'ABCDEFGHI'],\n",
    "        cols_by='lot', col_vals=[[a] for a in 'ABCDEFGHI'],\n",
    "        plot_titles=[f'Lot {a}' for a in 'ABCDEFGHI'],\n",
    "        **kwargs\n",
    "    )"
   ],
   "metadata": {
    "collapsed": false
   }
  },
  {
   "cell_type": "markdown",
   "source": [],
   "metadata": {
    "collapsed": false
   }
  }
 ],
 "metadata": {
  "kernelspec": {
   "display_name": "Python 3",
   "language": "python",
   "name": "python3"
  },
  "language_info": {
   "codemirror_mode": {
    "name": "ipython",
    "version": 2
   },
   "file_extension": ".py",
   "mimetype": "text/x-python",
   "name": "python",
   "nbconvert_exporter": "python",
   "pygments_lexer": "ipython2",
   "version": "2.7.6"
  }
 },
 "nbformat": 4,
 "nbformat_minor": 0
}
